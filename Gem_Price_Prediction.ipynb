{
  "cells": [
    {
      "cell_type": "code",
      "execution_count": null,
      "metadata": {
        "id": "R8Q4IZg34xKr"
      },
      "outputs": [],
      "source": [
        "# Installing the dependencies not already provided by colab\n",
        "!pip install -q pandas-profiling\n",
        "!pip install -q optuna"
      ]
    },
    {
      "cell_type": "code",
      "execution_count": null,
      "metadata": {
        "id": "Pas1sXz1ZwGf"
      },
      "outputs": [],
      "source": [
        "# We do not care if any of our commands will be deprecated in the future\n",
        "import warnings\n",
        "warnings.filterwarnings(\"ignore\", category=DeprecationWarning)"
      ]
    },
    {
      "cell_type": "code",
      "execution_count": null,
      "metadata": {
        "id": "KLmjfv_X4za2"
      },
      "outputs": [],
      "source": [
        "# Importing the libraries required for EDA\n",
        "import pandas as pd\n",
        "from pandas_profiling import ProfileReport\n",
        "import matplotlib.pyplot as plt\n",
        "import seaborn as sns\n",
        "import numpy as np"
      ]
    },
    {
      "cell_type": "code",
      "execution_count": null,
      "metadata": {
        "id": "MWBOGbV6xCej"
      },
      "outputs": [],
      "source": [
        "# Loading in the dataset\n",
        "def load_data():\n",
        "  return pd.read_csv('/content/train.csv')\n",
        "data = load_data()"
      ]
    },
    {
      "cell_type": "markdown",
      "metadata": {
        "id": "jao9Amw_atiQ"
      },
      "source": [
        "## Data Analysis"
      ]
    },
    {
      "cell_type": "markdown",
      "metadata": {
        "id": "8SR45UepaxRZ"
      },
      "source": [
        "Although it is good practice to perform manual EDA, it is often time consuming and not worth it if we just want to get a general overview of our data. So, we will use pandas profiling to generate a comprehensive report of our data so we can analysis it."
      ]
    },
    {
      "cell_type": "code",
      "execution_count": null,
      "metadata": {
        "colab": {
          "base_uri": "https://localhost:8080/",
          "height": 145,
          "referenced_widgets": [
            "dc7acc6f12984781a062bfe215e6d33a",
            "a0a779cc187e442faaad12057ac544d2",
            "a881abd4906d4941b6935a7d6baf2df5",
            "f1bfbd5138bf494fbf5c7ec0ddafa058",
            "fc9904c0be0a4c3b9c793fa3d9953a3d",
            "8762f16a8d2f466e9e57247e8a890c0d",
            "591fa1ca271445d2b234fb4aff60c6d4",
            "5ec37d23971d4cf78dbe24ad06dcb3e5",
            "d5b0986a9f9f4604a56de982dd44902a",
            "f9fb34c8b3e448f3b79b658d25af7b67",
            "e94a7e81a7cf490981a3b8176af5cbad",
            "11864819d8d844e5a9cce7f442fa7389",
            "6b1f254ce6f44bd7ad5a8c165a37300f",
            "9347d65ef64849548d9662f21aa38f32",
            "4543edf740d14a6885c997fadd7d0502",
            "80f96e4a22c949bc845c2c7bcbbe9773",
            "91f634bfffce4e188beba9f5b36db4e6",
            "be538189c6db4f7685637f3871c2857c",
            "46fb81953d5f4c828228a26c8098506a",
            "ba7d6e80a98f40bbb0e724d536c6b1ed",
            "e52fcec0cec24bb4b16d8de0efbf5f04",
            "66a8699ac2f845fe993aff65db84fa67",
            "4b84bb472a714b2391f8e5fb3b8fe9c6",
            "5e4a34398b524061bca1e1a0bb0dd091",
            "221118740d884877bf4ded1d060df56e",
            "e4b7570775de4005b2d690ded3d361b1",
            "be0987450b674d64b9d0f51037266d3e",
            "ba2c23fc4e3548249c1237cb2dcdadc5",
            "451ce2ba82de4af296e10be057045ad5",
            "29e38a570c9348d994bffb8584fa071e",
            "2cae25ada3934e36ae3bfc88a790930b",
            "f6efa072591b450795debade3b68d7ca",
            "5ef2a7df1b844b7da7c5a9d1330962b6",
            "686b0241a1dd4b1da4da01e817a21a12",
            "745f5a4f828f4b0ca6e333ca68383212",
            "c2e159f5f67940e5804470839dda3025",
            "6c070858634e43deac26d1b6bfaa8554",
            "bdda6133724f4eb1b3e273b660108e1d",
            "7d1c5733a15b44cc8ebff034d68c1b2e",
            "0d0e5f70d5e142d6b96ad2304cb90c7f",
            "bad229a07e6940368d10be81228f995d",
            "6f74bb95259c4efdb054a66d41fdd71d",
            "8030f9dad9e54c8c975387b861a4c08b",
            "6a1b03b01e7e4f84a0c5a30d67846ba9"
          ]
        },
        "id": "mogzsVZr77SR",
        "outputId": "528c4264-9bad-4a9f-a02f-176a68847802"
      },
      "outputs": [
        {
          "data": {
            "application/vnd.jupyter.widget-view+json": {
              "model_id": "dc7acc6f12984781a062bfe215e6d33a",
              "version_major": 2,
              "version_minor": 0
            },
            "text/plain": [
              "Summarize dataset:   0%|          | 0/5 [00:00<?, ?it/s]"
            ]
          },
          "metadata": {},
          "output_type": "display_data"
        },
        {
          "data": {
            "application/vnd.jupyter.widget-view+json": {
              "model_id": "11864819d8d844e5a9cce7f442fa7389",
              "version_major": 2,
              "version_minor": 0
            },
            "text/plain": [
              "Generate report structure:   0%|          | 0/1 [00:00<?, ?it/s]"
            ]
          },
          "metadata": {},
          "output_type": "display_data"
        },
        {
          "data": {
            "application/vnd.jupyter.widget-view+json": {
              "model_id": "4b84bb472a714b2391f8e5fb3b8fe9c6",
              "version_major": 2,
              "version_minor": 0
            },
            "text/plain": [
              "Render HTML:   0%|          | 0/1 [00:00<?, ?it/s]"
            ]
          },
          "metadata": {},
          "output_type": "display_data"
        },
        {
          "data": {
            "application/vnd.jupyter.widget-view+json": {
              "model_id": "686b0241a1dd4b1da4da01e817a21a12",
              "version_major": 2,
              "version_minor": 0
            },
            "text/plain": [
              "Export report to file:   0%|          | 0/1 [00:00<?, ?it/s]"
            ]
          },
          "metadata": {},
          "output_type": "display_data"
        }
      ],
      "source": [
        "# Our two lines of code that generate the report\n",
        "profile = ProfileReport(data, title='Profiling Report', explorative=True)\n",
        "profile.to_file('/content/output_report.html')"
      ]
    },
    {
      "cell_type": "markdown",
      "metadata": {
        "id": "3H0fBxGNcTeP"
      },
      "source": [
        "Although pandas profiler shows extreme values, it is not as clear as with seeing it with boxplots, so we will manually make boxplots for every numeric column in the dataset and check the outliers."
      ]
    },
    {
      "cell_type": "code",
      "execution_count": null,
      "metadata": {
        "colab": {
          "base_uri": "https://localhost:8080/",
          "height": 273
        },
        "id": "CCvJ6c8YRLdG",
        "outputId": "a4368e7e-7942-4ef1-e4e2-f107df8cadae"
      },
      "outputs": [
        {
          "data": {
            "image/png": "[encoded data removed]",
            "text/plain": [
              "<Figure size 1500x500 with 8 Axes>"
            ]
          },
          "metadata": {},
          "output_type": "display_data"
        }
      ],
      "source": [
        "# Filter numeric columns\n",
        "numeric_columns = data.select_dtypes(include=[np.number]).columns\n",
        "\n",
        "# Create subplots for each numeric column\n",
        "fig, axs = plt.subplots(1, len(numeric_columns), figsize=(15, 5))\n",
        "\n",
        "# Iterate over each numeric column and generate the boxplot\n",
        "for i, column in enumerate(numeric_columns):\n",
        "    sns.boxplot(data[column], ax=axs[i])\n",
        "    axs[i].set_title(column)\n",
        "\n",
        "    # Determine the y-axis limits for scaling\n",
        "    min_val = data[column].min()\n",
        "    max_val = data[column].max()\n",
        "    ylim = (min_val - 0.1 * abs(min_val), max_val + 0.1 * abs(max_val))\n",
        "    axs[i].set_ylim(ylim)\n",
        "\n",
        "# Adjust the layout\n",
        "plt.tight_layout()\n",
        "\n",
        "# Display the plots\n",
        "plt.show()\n"
      ]
    },
    {
      "cell_type": "markdown",
      "metadata": {
        "id": "31J5j_enz3ly"
      },
      "source": [
        "Based on the boxplots above, we can see that there are decent number of outliers. For now, we will leave the outliers alone, but we could handle them in some if we choose."
      ]
    },
    {
      "cell_type": "code",
      "execution_count": null,
      "metadata": {
        "id": "35NTa-j6MnGQ"
      },
      "outputs": [],
      "source": [
        "def remove_outliers(data):\n",
        "  # Display shape before removing outliers\n",
        "  print(\"Shape before removing outliers:\", data.shape)\n",
        "\n",
        "  original_num_samples = data.shape[0]\n",
        "\n",
        "  # Select numeric columns\n",
        "  numeric_columns = data.select_dtypes(include='number').columns.drop('price')\n",
        "\n",
        "  # Calculate the IQR for each numeric column\n",
        "  Q1 = data[numeric_columns].quantile(0.25)\n",
        "  Q3 = data[numeric_columns].quantile(0.75)\n",
        "  IQR = Q3 - Q1\n",
        "\n",
        "  # Define the threshold to identify outliers (e.g., 1.5 times the IQR)\n",
        "  outlier_threshold = 1.5\n",
        "\n",
        "  # Remove outliers from each numeric column\n",
        "  data = data[~((data[numeric_columns] < (Q1 - outlier_threshold * IQR)) | (data[numeric_columns] > (Q3 + outlier_threshold * IQR))).any(axis=1)]\n",
        "\n",
        "  # Display shape after removing outliers, so we can see how many samples remain\n",
        "  print(\"Shape after removing outliers:\", data.shape)\n",
        "\n",
        "  print(\"Number of samples removed:\", original_num_samples - data.shape[0])\n",
        "\n",
        "  return data"
      ]
    },
    {
      "cell_type": "markdown",
      "metadata": {
        "id": "xA9xndu0eUK6"
      },
      "source": [
        "Although scaling our numeric columns will not necessarily improve the accuracy for certain models, it will speed up their training. We will worry about speed later as our primary concern right now to set the ground for all the stuff to come and get a baseline accuracy and error. (Also, scaling values will mess up our relative scaling of the error calculation.)"
      ]
    },
    {
      "cell_type": "code",
      "execution_count": null,
      "metadata": {
        "id": "1ju5ZcQ5Q4JB"
      },
      "outputs": [],
      "source": [
        "from sklearn.preprocessing import StandardScaler\n",
        "from sklearn.preprocessing import MinMaxScaler\n",
        "\n",
        "def scaler(data, type):\n",
        "  numeric_data = data.select_dtypes(include=np.number)\n",
        "  if type == \"StandardScaler\":\n",
        "    scaler = StandardScaler()\n",
        "  else:\n",
        "    scaler = MinMaxScaler()\n",
        "  x_rescaled = scaler.fit_transform(numeric_data)\n",
        "  return x_rescaled\n",
        "\n",
        "def replace(data, new_x):\n",
        "  for index, column in enumerate(data.select_dtypes(include=np.number)):\n",
        "    data.loc[:, column] = new_x[:, index]"
      ]
    },
    {
      "cell_type": "markdown",
      "metadata": {
        "id": "9ydz9xPry9l7"
      },
      "source": [
        "Based on our dataset, we can see that 8 features are numeric. We can try to implement dimensionality techniques such as Principle Component Analysis(PCA) to remove some of the unimportant numeric features. For now, we will not do this for the sake of simplicity, however, we can try this technique later and see if the model's performance improves."
      ]
    },
    {
      "cell_type": "code",
      "execution_count": null,
      "metadata": {
        "id": "oDvPr3fhRprw"
      },
      "outputs": [],
      "source": [
        "from sklearn.decomposition import PCA\n",
        "\n",
        "def PCA(x):\n",
        "  # Our number of features to keep will be determined by the model\n",
        "  pca = PCA()\n",
        "\n",
        "  x_transformed = pca.fit_transform(x)\n",
        "\n",
        "  print(x_transformed.shape)\n",
        "\n",
        "  return x_transformed"
      ]
    },
    {
      "cell_type": "markdown",
      "metadata": {
        "id": "KXgmOc4d2VKd"
      },
      "source": [
        "We will need to encode our categorical features if we want to use them to train our models\n",
        "The one exception to this is we use catboost or lightbgm, which have their own categorical data processing.\n",
        "(This is one preprocessing step we cannot skip)"
      ]
    },
    {
      "cell_type": "code",
      "execution_count": null,
      "metadata": {
        "id": "tDYabX-aTjNJ"
      },
      "outputs": [],
      "source": [
        "from sklearn.preprocessing import LabelEncoder\n",
        "\n",
        "encode = LabelEncoder()\n",
        "\n",
        "categorical_columns = data.select_dtypes(include=[object])\n",
        "\n",
        "for c in categorical_columns:\n",
        "  data[c] = encode.fit_transform(data[c])"
      ]
    },
    {
      "cell_type": "markdown",
      "metadata": {
        "id": "02xp7SiK10Hl"
      },
      "source": [
        "## **Model Training and Evaluation**\n"
      ]
    },
    {
      "cell_type": "markdown",
      "metadata": {
        "id": "qxxCl3212hVL"
      },
      "source": [
        "To start off, we will just use a Randomforest and Xgboost model and check their accuracies using a normal train-test-split. We will also stick to the default parameters for both the models.\n"
      ]
    },
    {
      "cell_type": "code",
      "execution_count": null,
      "metadata": {
        "id": "iFXw0MZR3UNr"
      },
      "outputs": [],
      "source": [
        "# We will import the necessary libraries for this task\n",
        "from sklearn.model_selection import train_test_split\n",
        "from sklearn.ensemble import RandomForestRegressor\n",
        "from xgboost import XGBRegressor\n",
        "from sklearn.metrics import r2_score, mean_squared_error\n",
        "\n",
        "x = data.drop(columns=['price'])\n",
        "y = data.price\n",
        "\n",
        "x_train, x_test, y_train, y_test = train_test_split(x, y, test_size=0.3, random_state=1)\n",
        "\n",
        "# It may seem unecessary to write functions just to create and train the models but it will be helpful later on\n",
        "def create_train(model, x=None, y=None, params=None, training=True):\n",
        "  if model == \"rf\":\n",
        "    model = RandomForestRegressor(**params) if params is not None else RandomForestRegressor()\n",
        "  elif model == \"xgb\":\n",
        "    model = XGBRegressor(**params) if params is not None else XGBRegressor()\n",
        "\n",
        "  if training:\n",
        "    # assert x is None or y is None, \"data for x and y should be provided\"\n",
        "    train(model, x, y)\n",
        "\n",
        "  return model\n",
        "\n",
        "def train(model, x, y):\n",
        "  model.fit(x, y)\n",
        "\n",
        "def evaluation(model, x, y, prin=True, ret=True):\n",
        "  y_pred = model.predict(x)\n",
        "  r2 = r2_score(y, y_pred)\n",
        "  rmse = np.sqrt(mean_squared_error(y, y_pred))\n",
        "\n",
        "  if prin:\n",
        "    print(f'R2 Score of {model.__class__.__name__}: {r2}')\n",
        "    print(f'Root Mean Squared Error of {model.__class__.__name__}: {rmse}')\n",
        "\n",
        "  if ret:\n",
        "    return r2, rmse\n"
      ]
    },
    {
      "cell_type": "code",
      "execution_count": null,
      "metadata": {
        "colab": {
          "base_uri": "https://localhost:8080/"
        },
        "id": "nUpJnPj46hPD",
        "outputId": "dfa276c6-5654-4fc3-cbcf-27eafa83ea64"
      },
      "outputs": [
        {
          "name": "stdout",
          "output_type": "stream",
          "text": [
            "R2 Score of RandomForestRegressor: 0.9777941879301824\n",
            "Root Mean Squared Error of RandomForestRegressor: 599.1009692431385\n",
            "\n",
            "R2 Score of XGBRegressor: 0.979296514618885\n",
            "Root Mean Squared Error of XGBRegressor: 578.4801008130587\n"
          ]
        }
      ],
      "source": [
        "rf = create_train('rf', x_train, y_train)\n",
        "xgb = create_train('xgb', x_train, y_train)\n",
        "\n",
        "evaluation(rf, x_test, y_test, ret=False)\n",
        "print()\n",
        "evaluation(xgb, x_test, y_test, ret=False)"
      ]
    },
    {
      "cell_type": "markdown",
      "metadata": {
        "id": "63POiYH7EvSr"
      },
      "source": [
        "Our r2 scores are very high considering we did not do any feature engineering. However, the root mean squared error could use some work. We also did not implement cross-validation to get a better idea of our model's accuracy, so lets do that see if its consistent. For now, we will still stick to the default parameters."
      ]
    },
    {
      "cell_type": "code",
      "execution_count": null,
      "metadata": {
        "colab": {
          "base_uri": "https://localhost:8080/"
        },
        "id": "Ewv4q19ILOEX",
        "outputId": "d92072b1-43bc-4ddd-b09d-44ed822444d4"
      },
      "outputs": [
        {
          "name": "stdout",
          "output_type": "stream",
          "text": [
            "\n",
            "R2 Score of RandomForestRegressor: 0.9779015070769028\n",
            "Root Mean Squared Error of RandomForestRegressor: 599.6699515717288\n",
            "\n",
            "R2 Score of RandomForestRegressor: 0.9764901854016661\n",
            "Root Mean Squared Error of RandomForestRegressor: 617.6400715376996\n",
            "\n",
            "R2 Score of RandomForestRegressor: 0.9776537078896106\n",
            "Root Mean Squared Error of RandomForestRegressor: 605.5543657697806\n",
            "\n",
            "R2 Score of RandomForestRegressor: 0.9779117706034768\n",
            "Root Mean Squared Error of RandomForestRegressor: 602.3715273053976\n",
            "\n",
            "R2 Score of RandomForestRegressor: 0.9774559003326899\n",
            "Root Mean Squared Error of RandomForestRegressor: 601.4078992717915\n",
            "RandomForestRegressor:\n",
            "Average R2 Score: 0.9774826142608692\n",
            "Average Root Mean Squared Error: 605.3287630912796\n",
            "\n",
            "\n",
            "R2 Score of XGBRegressor: 0.9789965037945424\n",
            "Root Mean Squared Error of XGBRegressor: 584.6241556208035\n",
            "\n",
            "R2 Score of XGBRegressor: 0.9778113948794213\n",
            "Root Mean Squared Error of XGBRegressor: 600.0340047408173\n",
            "\n",
            "R2 Score of XGBRegressor: 0.9785434991352\n",
            "Root Mean Squared Error of XGBRegressor: 593.3758310844989\n",
            "\n",
            "R2 Score of XGBRegressor: 0.9790259800166299\n",
            "Root Mean Squared Error of XGBRegressor: 586.982052237703\n",
            "\n",
            "R2 Score of XGBRegressor: 0.9786398188542581\n",
            "Root Mean Squared Error of XGBRegressor: 585.4032725513501\n",
            "XGBRegressor:\n",
            "Average R2 Score: 0.9786034393360105\n",
            "Average Root Mean Squared Error: 590.0838632470346\n",
            "\n"
          ]
        }
      ],
      "source": [
        "from sklearn.model_selection import cross_val_score, KFold\n",
        "\n",
        "kf = KFold(n_splits=5, shuffle=True, random_state=2)\n",
        "\n",
        "models = [\n",
        "    create_train('rf', training=False),\n",
        "    create_train('xgb', training=False)\n",
        "]\n",
        "\n",
        "for model in models:\n",
        "  fold_score1 = []\n",
        "  fold_score2 = []\n",
        "  for train_index, test_index in kf.split(x):\n",
        "    x_train, x_test = x.iloc[train_index], x.iloc[test_index]\n",
        "    y_train, y_test = y.iloc[train_index], y.iloc[test_index]\n",
        "\n",
        "    train(model, x_train, y_train)\n",
        "\n",
        "    print()\n",
        "\n",
        "    r2, rmse = evaluation(model, x_test, y_test)\n",
        "\n",
        "    fold_score1.append(r2)\n",
        "\n",
        "    fold_score2.append(rmse)\n",
        "\n",
        "  print(f'{model.__class__.__name__}:')\n",
        "  print(f'Average R2 Score: {np.mean(fold_score1)}')\n",
        "  print(f'Average Root Mean Squared Error: {np.mean(fold_score2)}')\n",
        "  print()"
      ]
    },
    {
      "cell_type": "markdown",
      "metadata": {
        "id": "yQv4vbrBR4dE"
      },
      "source": [
        "Now, lets start hyperparameter tuning and see if we can find the best possible parameters for our models. One thing to note is that this process alone is time-consuming, especially with a dataset of over 100k samples, it will take an extremely long time, especially if we include cross-validation. Doing this method might not be practical in every situation, but for the sake of hands on implementation, I will show how this would be done, especially when we do want the best accuracy. The time it takes for these models after each prediction as well as the final prediction will be logged so we can later compare and see if the potential accuracy gain was worth spending the time achieving it."
      ]
    },
    {
      "cell_type": "code",
      "execution_count": null,
      "metadata": {
        "id": "5EgrRtm-Tfme"
      },
      "outputs": [],
      "source": [
        "import optuna\n",
        "import time\n",
        "\n",
        "def sampler(x, y, n):\n",
        "  return x.sample(n), y.sample(n)\n",
        "\n",
        "optuna.logging.set_verbosity(optuna.logging.WARNING)\n",
        "\n",
        "time_logging = []\n",
        "error_logging = []\n",
        "\n",
        "def optimiz(model_name, x_train, y_train, x_test, y_test):\n",
        "  prev_time = time.time()\n",
        "  kf = KFold(n_splits=5, shuffle=True, random_state=2)\n",
        "  def objective(trial):\n",
        "      params = {\n",
        "        'n_estimators': trial.suggest_int('n_estimators', 10, 200),\n",
        "        'max_depth': trial.suggest_int('max_depth', 2, 20)\n",
        "      }\n",
        "\n",
        "      model = create_train(model_name, training=False)\n",
        "\n",
        "      fold_score1 = []\n",
        "      fold_score2 = []\n",
        "      for train_index, test_index in kf.split(x):\n",
        "        x_train, x_test = x.iloc[train_index], x.iloc[test_index]\n",
        "        y_train, y_test = y.iloc[train_index], y.iloc[test_index]\n",
        "\n",
        "        train(model, x_train, y_train)\n",
        "\n",
        "        r2, rmse = evaluation(model, x_test, y_test, prin=False)\n",
        "\n",
        "        fold_score1.append(r2)\n",
        "\n",
        "        fold_score2.append(rmse)\n",
        "\n",
        "      error_logging.append(np.mean(fold_score2))\n",
        "      current_time = time.time() - prev_time\n",
        "      time_logging.append(current_time)\n",
        "      print(f'Average Root Mean Squraed Error: {np.mean(fold_score2)}')\n",
        "      print(f'Current Time: {current_time}')\n",
        "      return rmse\n",
        "\n",
        "  n_trials = 10\n",
        "\n",
        "  study = optuna.create_study(direction='minimize')\n",
        "  study.optimize(objective, n_trials=n_trials)\n",
        "\n",
        "  print(f'{model_name}:')\n",
        "  print(f'Best parameters: {study.best_params}')\n",
        "  print(f'Best root mean squared error; {study.best_value}')\n",
        "  print(time.time() - start, 's')"
      ]
    },
    {
      "cell_type": "code",
      "execution_count": null,
      "metadata": {
        "colab": {
          "background_save": true,
          "base_uri": "https://localhost:8080/",
          "height": 993
        },
        "id": "I7cAvJuf1fhk",
        "outputId": "c718ae09-eba0-4ac0-cd7c-4c18930f7c7b"
      },
      "outputs": [
        {
          "name": "stdout",
          "output_type": "stream",
          "text": [
            "Average Root Mean Squraed Error: 590.0838632470346\n",
            "Current Time: 88.45039463043213\n",
            "Average Root Mean Squraed Error: 590.0838632470346\n",
            "Current Time: 174.6568489074707\n",
            "Average Root Mean Squraed Error: 590.0838632470346\n",
            "Current Time: 261.90784645080566\n",
            "Average Root Mean Squraed Error: 590.0838632470346\n",
            "Current Time: 349.1123125553131\n",
            "Average Root Mean Squraed Error: 590.0838632470346\n",
            "Current Time: 433.9794542789459\n",
            "Average Root Mean Squraed Error: 590.0838632470346\n",
            "Current Time: 521.331778049469\n",
            "Average Root Mean Squraed Error: 590.0838632470346\n",
            "Current Time: 606.3426713943481\n",
            "Average Root Mean Squraed Error: 590.0838632470346\n",
            "Current Time: 693.6946270465851\n",
            "Average Root Mean Squraed Error: 590.0838632470346\n",
            "Current Time: 778.7673299312592\n",
            "Average Root Mean Squraed Error: 590.0838632470346\n",
            "Current Time: 866.2458071708679\n",
            "xgb:\n",
            "Best parameters: {'n_estimators': 191, 'max_depth': 17}\n",
            "Best root mean squared error; 585.4032725513501\n",
            "866.2492196559906 s\n"
          ]
        },
        {
          "data": {
            "image/png": "[encoded data removed]",
            "text/plain": [
              "<Figure size 640x480 with 1 Axes>"
            ]
          },
          "metadata": {},
          "output_type": "display_data"
        },
        {
          "name": "stdout",
          "output_type": "stream",
          "text": [
            "Average Root Mean Squraed Error: 605.4541735455424\n",
            "Current Time: 548.7602071762085\n",
            "Average Root Mean Squraed Error: 605.0173265765683\n",
            "Current Time: 1096.8060801029205\n",
            "Average Root Mean Squraed Error: 605.7038247624989\n",
            "Current Time: 1641.5564496517181\n",
            "Average Root Mean Squraed Error: 605.3430374891711\n",
            "Current Time: 2188.368401527405\n",
            "Average Root Mean Squraed Error: 605.0390652534901\n",
            "Current Time: 2726.26065158844\n",
            "Average Root Mean Squraed Error: 605.4225005692309\n",
            "Current Time: 3265.2527055740356\n",
            "Average Root Mean Squraed Error: 605.2805564216244\n",
            "Current Time: 3802.683500766754\n",
            "Average Root Mean Squraed Error: 605.4977076399019\n",
            "Current Time: 4340.587879419327\n",
            "Average Root Mean Squraed Error: 605.4946307251903\n",
            "Current Time: 4878.294660568237\n",
            "Average Root Mean Squraed Error: 605.5179565938458\n",
            "Current Time: 5416.232330560684\n",
            "rf:\n",
            "Best parameters: {'n_estimators': 20, 'max_depth': 17}\n",
            "Best root mean squared error; 602.0789634990429\n",
            "5416.297575473785 s\n"
          ]
        },
        {
          "data": {
            "image/png": "[encoded data removed]",
            "text/plain": [
              "<Figure size 640x480 with 1 Axes>"
            ]
          },
          "metadata": {},
          "output_type": "display_data"
        }
      ],
      "source": [
        "start = time.time()\n",
        "optimiz('xgb', x_train, y_train, x_test, y_test)\n",
        "plt.plot(time_logging, error_logging)\n",
        "plt.xlabel(\"Time\")\n",
        "plt.ylabel(\"RMSE\")\n",
        "plt.title(\"RMSE vs Time\")\n",
        "plt.show()\n",
        "start = time.time()\n",
        "optimiz('rf', x_train, y_train, x_test, y_test)\n",
        "plt.plot(time_logging, error_logging)\n",
        "plt.xlabel(\"Time\")\n",
        "plt.ylabel(\"RMSE\")\n",
        "plt.title(\"RMSE vs Time\")\n",
        "plt.show()"
      ]
    },
    {
      "cell_type": "markdown",
      "metadata": {
        "id": "LRgAwUsGyYO8"
      },
      "source": [
        "Given the time spent finding the right hyperparameters, there was no error drop. This is something to keep in mind when hyperparameter tuning for medium-to-large datasets."
      ]
    },
    {
      "cell_type": "markdown",
      "metadata": {
        "id": "M6j8MLWm2Sag"
      },
      "source": [
        "Next, we will try to implement stacking with the hyperparameters found by optuna to see if we can further improve our accuracy. This is when we not only have to worry about time, but also memory usage. Stacking can use a lot of memory, so to keep things in check, we will use 10 base models(5 random forests and 5 xgboosts).\n",
        "\n",
        "However, even with this, colab's system ram is not enough. Although restarting the runtime does indeed fix this issue(where we would only import the libraries, load the data, encode the categorical variables, and make our train and test sets), the time required to train this stacked model is way more than its worth.\n",
        "\n",
        "We have a few options here:\n",
        "- Use a random sample of our data to train the models\n",
        "- Lower the number of base models to like 4-6\n",
        "- Remove some unimportant features or samples in the dataset\n",
        "- Scaling the values in the numerical columns down\n",
        "- Ignore this step completely\n",
        "\n",
        "Ignoring this step is a viable option and that is what will happen as of now."
      ]
    },
    {
      "cell_type": "code",
      "execution_count": null,
      "metadata": {
        "id": "ySs1Htmf3LoI"
      },
      "outputs": [],
      "source": [
        "# from sklearn.ensemble import StackingRegressor\n",
        "# from sklearn.linear_model import LinearRegression\n",
        "# import time\n",
        "\n",
        "# base_models = []\n",
        "\n",
        "# for i in range(4):\n",
        "#   base_models.append((f'xgb{i}', XGBRegressor()))\n",
        "#   base_models.append((f'rf{i}', RandomForestRegressor()))\n",
        "\n",
        "# meta_model = LinearRegression()\n",
        "\n",
        "# stacking_model = StackingRegressor(estimators=base_models, final_estimator=meta_model)\n",
        "\n",
        "# start = time.time()\n",
        "# stacking_model.fit(x_train, y_train)\n",
        "# print(time.time() - start, 's')"
      ]
    }
  ],
  "metadata": {
    "colab": {
      "provenance": []
    },
    "kernelspec": {
      "display_name": "Python 3",
      "name": "python3"
    },
    "language_info": {
      "name": "python"
    },
    "widgets": {
      "application/vnd.jupyter.widget-state+json": {
        "0d0e5f70d5e142d6b96ad2304cb90c7f": {
          "model_module": "@jupyter-widgets/controls",
          "model_module_version": "1.5.0",
          "model_name": "DescriptionStyleModel",
          "state": {
            "_model_module": "@jupyter-widgets/controls",
            "_model_module_version": "1.5.0",
            "_model_name": "DescriptionStyleModel",
            "_view_count": null,
            "_view_module": "@jupyter-widgets/base",
            "_view_module_version": "1.2.0",
            "_view_name": "StyleView",
            "description_width": ""
          }
        },
        "11864819d8d844e5a9cce7f442fa7389": {
          "model_module": "@jupyter-widgets/controls",
          "model_module_version": "1.5.0",
          "model_name": "HBoxModel",
          "state": {
            "_dom_classes": [],
            "_model_module": "@jupyter-widgets/controls",
            "_model_module_version": "1.5.0",
            "_model_name": "HBoxModel",
            "_view_count": null,
            "_view_module": "@jupyter-widgets/controls",
            "_view_module_version": "1.5.0",
            "_view_name": "HBoxView",
            "box_style": "",
            "children": [
              "IPY_MODEL_6b1f254ce6f44bd7ad5a8c165a37300f",
              "IPY_MODEL_9347d65ef64849548d9662f21aa38f32",
              "IPY_MODEL_4543edf740d14a6885c997fadd7d0502"
            ],
            "layout": "IPY_MODEL_80f96e4a22c949bc845c2c7bcbbe9773"
          }
        },
        "221118740d884877bf4ded1d060df56e": {
          "model_module": "@jupyter-widgets/controls",
          "model_module_version": "1.5.0",
          "model_name": "FloatProgressModel",
          "state": {
            "_dom_classes": [],
            "_model_module": "@jupyter-widgets/controls",
            "_model_module_version": "1.5.0",
            "_model_name": "FloatProgressModel",
            "_view_count": null,
            "_view_module": "@jupyter-widgets/controls",
            "_view_module_version": "1.5.0",
            "_view_name": "ProgressView",
            "bar_style": "success",
            "description": "",
            "description_tooltip": null,
            "layout": "IPY_MODEL_29e38a570c9348d994bffb8584fa071e",
            "max": 1,
            "min": 0,
            "orientation": "horizontal",
            "style": "IPY_MODEL_2cae25ada3934e36ae3bfc88a790930b",
            "value": 1
          }
        },
        "29e38a570c9348d994bffb8584fa071e": {
          "model_module": "@jupyter-widgets/base",
          "model_module_version": "1.2.0",
          "model_name": "LayoutModel",
          "state": {
            "_model_module": "@jupyter-widgets/base",
            "_model_module_version": "1.2.0",
            "_model_name": "LayoutModel",
            "_view_count": null,
            "_view_module": "@jupyter-widgets/base",
            "_view_module_version": "1.2.0",
            "_view_name": "LayoutView",
            "align_content": null,
            "align_items": null,
            "align_self": null,
            "border": null,
            "bottom": null,
            "display": null,
            "flex": null,
            "flex_flow": null,
            "grid_area": null,
            "grid_auto_columns": null,
            "grid_auto_flow": null,
            "grid_auto_rows": null,
            "grid_column": null,
            "grid_gap": null,
            "grid_row": null,
            "grid_template_areas": null,
            "grid_template_columns": null,
            "grid_template_rows": null,
            "height": null,
            "justify_content": null,
            "justify_items": null,
            "left": null,
            "margin": null,
            "max_height": null,
            "max_width": null,
            "min_height": null,
            "min_width": null,
            "object_fit": null,
            "object_position": null,
            "order": null,
            "overflow": null,
            "overflow_x": null,
            "overflow_y": null,
            "padding": null,
            "right": null,
            "top": null,
            "visibility": null,
            "width": null
          }
        },
        "2cae25ada3934e36ae3bfc88a790930b": {
          "model_module": "@jupyter-widgets/controls",
          "model_module_version": "1.5.0",
          "model_name": "ProgressStyleModel",
          "state": {
            "_model_module": "@jupyter-widgets/controls",
            "_model_module_version": "1.5.0",
            "_model_name": "ProgressStyleModel",
            "_view_count": null,
            "_view_module": "@jupyter-widgets/base",
            "_view_module_version": "1.2.0",
            "_view_name": "StyleView",
            "bar_color": null,
            "description_width": ""
          }
        },
        "451ce2ba82de4af296e10be057045ad5": {
          "model_module": "@jupyter-widgets/controls",
          "model_module_version": "1.5.0",
          "model_name": "DescriptionStyleModel",
          "state": {
            "_model_module": "@jupyter-widgets/controls",
            "_model_module_version": "1.5.0",
            "_model_name": "DescriptionStyleModel",
            "_view_count": null,
            "_view_module": "@jupyter-widgets/base",
            "_view_module_version": "1.2.0",
            "_view_name": "StyleView",
            "description_width": ""
          }
        },
        "4543edf740d14a6885c997fadd7d0502": {
          "model_module": "@jupyter-widgets/controls",
          "model_module_version": "1.5.0",
          "model_name": "HTMLModel",
          "state": {
            "_dom_classes": [],
            "_model_module": "@jupyter-widgets/controls",
            "_model_module_version": "1.5.0",
            "_model_name": "HTMLModel",
            "_view_count": null,
            "_view_module": "@jupyter-widgets/controls",
            "_view_module_version": "1.5.0",
            "_view_name": "HTMLView",
            "description": "",
            "description_tooltip": null,
            "layout": "IPY_MODEL_e52fcec0cec24bb4b16d8de0efbf5f04",
            "placeholder": "​",
            "style": "IPY_MODEL_66a8699ac2f845fe993aff65db84fa67",
            "value": " 1/1 [00:07&lt;00:00,  7.69s/it]"
          }
        },
        "46fb81953d5f4c828228a26c8098506a": {
          "model_module": "@jupyter-widgets/base",
          "model_module_version": "1.2.0",
          "model_name": "LayoutModel",
          "state": {
            "_model_module": "@jupyter-widgets/base",
            "_model_module_version": "1.2.0",
            "_model_name": "LayoutModel",
            "_view_count": null,
            "_view_module": "@jupyter-widgets/base",
            "_view_module_version": "1.2.0",
            "_view_name": "LayoutView",
            "align_content": null,
            "align_items": null,
            "align_self": null,
            "border": null,
            "bottom": null,
            "display": null,
            "flex": null,
            "flex_flow": null,
            "grid_area": null,
            "grid_auto_columns": null,
            "grid_auto_flow": null,
            "grid_auto_rows": null,
            "grid_column": null,
            "grid_gap": null,
            "grid_row": null,
            "grid_template_areas": null,
            "grid_template_columns": null,
            "grid_template_rows": null,
            "height": null,
            "justify_content": null,
            "justify_items": null,
            "left": null,
            "margin": null,
            "max_height": null,
            "max_width": null,
            "min_height": null,
            "min_width": null,
            "object_fit": null,
            "object_position": null,
            "order": null,
            "overflow": null,
            "overflow_x": null,
            "overflow_y": null,
            "padding": null,
            "right": null,
            "top": null,
            "visibility": null,
            "width": null
          }
        },
        "4b84bb472a714b2391f8e5fb3b8fe9c6": {
          "model_module": "@jupyter-widgets/controls",
          "model_module_version": "1.5.0",
          "model_name": "HBoxModel",
          "state": {
            "_dom_classes": [],
            "_model_module": "@jupyter-widgets/controls",
            "_model_module_version": "1.5.0",
            "_model_name": "HBoxModel",
            "_view_count": null,
            "_view_module": "@jupyter-widgets/controls",
            "_view_module_version": "1.5.0",
            "_view_name": "HBoxView",
            "box_style": "",
            "children": [
              "IPY_MODEL_5e4a34398b524061bca1e1a0bb0dd091",
              "IPY_MODEL_221118740d884877bf4ded1d060df56e",
              "IPY_MODEL_e4b7570775de4005b2d690ded3d361b1"
            ],
            "layout": "IPY_MODEL_be0987450b674d64b9d0f51037266d3e"
          }
        },
        "591fa1ca271445d2b234fb4aff60c6d4": {
          "model_module": "@jupyter-widgets/controls",
          "model_module_version": "1.5.0",
          "model_name": "DescriptionStyleModel",
          "state": {
            "_model_module": "@jupyter-widgets/controls",
            "_model_module_version": "1.5.0",
            "_model_name": "DescriptionStyleModel",
            "_view_count": null,
            "_view_module": "@jupyter-widgets/base",
            "_view_module_version": "1.2.0",
            "_view_name": "StyleView",
            "description_width": ""
          }
        },
        "5e4a34398b524061bca1e1a0bb0dd091": {
          "model_module": "@jupyter-widgets/controls",
          "model_module_version": "1.5.0",
          "model_name": "HTMLModel",
          "state": {
            "_dom_classes": [],
            "_model_module": "@jupyter-widgets/controls",
            "_model_module_version": "1.5.0",
            "_model_name": "HTMLModel",
            "_view_count": null,
            "_view_module": "@jupyter-widgets/controls",
            "_view_module_version": "1.5.0",
            "_view_name": "HTMLView",
            "description": "",
            "description_tooltip": null,
            "layout": "IPY_MODEL_ba2c23fc4e3548249c1237cb2dcdadc5",
            "placeholder": "​",
            "style": "IPY_MODEL_451ce2ba82de4af296e10be057045ad5",
            "value": "Render HTML: 100%"
          }
        },
        "5ec37d23971d4cf78dbe24ad06dcb3e5": {
          "model_module": "@jupyter-widgets/base",
          "model_module_version": "1.2.0",
          "model_name": "LayoutModel",
          "state": {
            "_model_module": "@jupyter-widgets/base",
            "_model_module_version": "1.2.0",
            "_model_name": "LayoutModel",
            "_view_count": null,
            "_view_module": "@jupyter-widgets/base",
            "_view_module_version": "1.2.0",
            "_view_name": "LayoutView",
            "align_content": null,
            "align_items": null,
            "align_self": null,
            "border": null,
            "bottom": null,
            "display": null,
            "flex": null,
            "flex_flow": null,
            "grid_area": null,
            "grid_auto_columns": null,
            "grid_auto_flow": null,
            "grid_auto_rows": null,
            "grid_column": null,
            "grid_gap": null,
            "grid_row": null,
            "grid_template_areas": null,
            "grid_template_columns": null,
            "grid_template_rows": null,
            "height": null,
            "justify_content": null,
            "justify_items": null,
            "left": null,
            "margin": null,
            "max_height": null,
            "max_width": null,
            "min_height": null,
            "min_width": null,
            "object_fit": null,
            "object_position": null,
            "order": null,
            "overflow": null,
            "overflow_x": null,
            "overflow_y": null,
            "padding": null,
            "right": null,
            "top": null,
            "visibility": null,
            "width": null
          }
        },
        "5ef2a7df1b844b7da7c5a9d1330962b6": {
          "model_module": "@jupyter-widgets/controls",
          "model_module_version": "1.5.0",
          "model_name": "DescriptionStyleModel",
          "state": {
            "_model_module": "@jupyter-widgets/controls",
            "_model_module_version": "1.5.0",
            "_model_name": "DescriptionStyleModel",
            "_view_count": null,
            "_view_module": "@jupyter-widgets/base",
            "_view_module_version": "1.2.0",
            "_view_name": "StyleView",
            "description_width": ""
          }
        },
        "66a8699ac2f845fe993aff65db84fa67": {
          "model_module": "@jupyter-widgets/controls",
          "model_module_version": "1.5.0",
          "model_name": "DescriptionStyleModel",
          "state": {
            "_model_module": "@jupyter-widgets/controls",
            "_model_module_version": "1.5.0",
            "_model_name": "DescriptionStyleModel",
            "_view_count": null,
            "_view_module": "@jupyter-widgets/base",
            "_view_module_version": "1.2.0",
            "_view_name": "StyleView",
            "description_width": ""
          }
        },
        "686b0241a1dd4b1da4da01e817a21a12": {
          "model_module": "@jupyter-widgets/controls",
          "model_module_version": "1.5.0",
          "model_name": "HBoxModel",
          "state": {
            "_dom_classes": [],
            "_model_module": "@jupyter-widgets/controls",
            "_model_module_version": "1.5.0",
            "_model_name": "HBoxModel",
            "_view_count": null,
            "_view_module": "@jupyter-widgets/controls",
            "_view_module_version": "1.5.0",
            "_view_name": "HBoxView",
            "box_style": "",
            "children": [
              "IPY_MODEL_745f5a4f828f4b0ca6e333ca68383212",
              "IPY_MODEL_c2e159f5f67940e5804470839dda3025",
              "IPY_MODEL_6c070858634e43deac26d1b6bfaa8554"
            ],
            "layout": "IPY_MODEL_bdda6133724f4eb1b3e273b660108e1d"
          }
        },
        "6a1b03b01e7e4f84a0c5a30d67846ba9": {
          "model_module": "@jupyter-widgets/controls",
          "model_module_version": "1.5.0",
          "model_name": "DescriptionStyleModel",
          "state": {
            "_model_module": "@jupyter-widgets/controls",
            "_model_module_version": "1.5.0",
            "_model_name": "DescriptionStyleModel",
            "_view_count": null,
            "_view_module": "@jupyter-widgets/base",
            "_view_module_version": "1.2.0",
            "_view_name": "StyleView",
            "description_width": ""
          }
        },
        "6b1f254ce6f44bd7ad5a8c165a37300f": {
          "model_module": "@jupyter-widgets/controls",
          "model_module_version": "1.5.0",
          "model_name": "HTMLModel",
          "state": {
            "_dom_classes": [],
            "_model_module": "@jupyter-widgets/controls",
            "_model_module_version": "1.5.0",
            "_model_name": "HTMLModel",
            "_view_count": null,
            "_view_module": "@jupyter-widgets/controls",
            "_view_module_version": "1.5.0",
            "_view_name": "HTMLView",
            "description": "",
            "description_tooltip": null,
            "layout": "IPY_MODEL_91f634bfffce4e188beba9f5b36db4e6",
            "placeholder": "​",
            "style": "IPY_MODEL_be538189c6db4f7685637f3871c2857c",
            "value": "Generate report structure: 100%"
          }
        },
        "6c070858634e43deac26d1b6bfaa8554": {
          "model_module": "@jupyter-widgets/controls",
          "model_module_version": "1.5.0",
          "model_name": "HTMLModel",
          "state": {
            "_dom_classes": [],
            "_model_module": "@jupyter-widgets/controls",
            "_model_module_version": "1.5.0",
            "_model_name": "HTMLModel",
            "_view_count": null,
            "_view_module": "@jupyter-widgets/controls",
            "_view_module_version": "1.5.0",
            "_view_name": "HTMLView",
            "description": "",
            "description_tooltip": null,
            "layout": "IPY_MODEL_8030f9dad9e54c8c975387b861a4c08b",
            "placeholder": "​",
            "style": "IPY_MODEL_6a1b03b01e7e4f84a0c5a30d67846ba9",
            "value": " 1/1 [00:00&lt;00:00, 23.43it/s]"
          }
        },
        "6f74bb95259c4efdb054a66d41fdd71d": {
          "model_module": "@jupyter-widgets/controls",
          "model_module_version": "1.5.0",
          "model_name": "ProgressStyleModel",
          "state": {
            "_model_module": "@jupyter-widgets/controls",
            "_model_module_version": "1.5.0",
            "_model_name": "ProgressStyleModel",
            "_view_count": null,
            "_view_module": "@jupyter-widgets/base",
            "_view_module_version": "1.2.0",
            "_view_name": "StyleView",
            "bar_color": null,
            "description_width": ""
          }
        },
        "745f5a4f828f4b0ca6e333ca68383212": {
          "model_module": "@jupyter-widgets/controls",
          "model_module_version": "1.5.0",
          "model_name": "HTMLModel",
          "state": {
            "_dom_classes": [],
            "_model_module": "@jupyter-widgets/controls",
            "_model_module_version": "1.5.0",
            "_model_name": "HTMLModel",
            "_view_count": null,
            "_view_module": "@jupyter-widgets/controls",
            "_view_module_version": "1.5.0",
            "_view_name": "HTMLView",
            "description": "",
            "description_tooltip": null,
            "layout": "IPY_MODEL_7d1c5733a15b44cc8ebff034d68c1b2e",
            "placeholder": "​",
            "style": "IPY_MODEL_0d0e5f70d5e142d6b96ad2304cb90c7f",
            "value": "Export report to file: 100%"
          }
        },
        "7d1c5733a15b44cc8ebff034d68c1b2e": {
          "model_module": "@jupyter-widgets/base",
          "model_module_version": "1.2.0",
          "model_name": "LayoutModel",
          "state": {
            "_model_module": "@jupyter-widgets/base",
            "_model_module_version": "1.2.0",
            "_model_name": "LayoutModel",
            "_view_count": null,
            "_view_module": "@jupyter-widgets/base",
            "_view_module_version": "1.2.0",
            "_view_name": "LayoutView",
            "align_content": null,
            "align_items": null,
            "align_self": null,
            "border": null,
            "bottom": null,
            "display": null,
            "flex": null,
            "flex_flow": null,
            "grid_area": null,
            "grid_auto_columns": null,
            "grid_auto_flow": null,
            "grid_auto_rows": null,
            "grid_column": null,
            "grid_gap": null,
            "grid_row": null,
            "grid_template_areas": null,
            "grid_template_columns": null,
            "grid_template_rows": null,
            "height": null,
            "justify_content": null,
            "justify_items": null,
            "left": null,
            "margin": null,
            "max_height": null,
            "max_width": null,
            "min_height": null,
            "min_width": null,
            "object_fit": null,
            "object_position": null,
            "order": null,
            "overflow": null,
            "overflow_x": null,
            "overflow_y": null,
            "padding": null,
            "right": null,
            "top": null,
            "visibility": null,
            "width": null
          }
        },
        "8030f9dad9e54c8c975387b861a4c08b": {
          "model_module": "@jupyter-widgets/base",
          "model_module_version": "1.2.0",
          "model_name": "LayoutModel",
          "state": {
            "_model_module": "@jupyter-widgets/base",
            "_model_module_version": "1.2.0",
            "_model_name": "LayoutModel",
            "_view_count": null,
            "_view_module": "@jupyter-widgets/base",
            "_view_module_version": "1.2.0",
            "_view_name": "LayoutView",
            "align_content": null,
            "align_items": null,
            "align_self": null,
            "border": null,
            "bottom": null,
            "display": null,
            "flex": null,
            "flex_flow": null,
            "grid_area": null,
            "grid_auto_columns": null,
            "grid_auto_flow": null,
            "grid_auto_rows": null,
            "grid_column": null,
            "grid_gap": null,
            "grid_row": null,
            "grid_template_areas": null,
            "grid_template_columns": null,
            "grid_template_rows": null,
            "height": null,
            "justify_content": null,
            "justify_items": null,
            "left": null,
            "margin": null,
            "max_height": null,
            "max_width": null,
            "min_height": null,
            "min_width": null,
            "object_fit": null,
            "object_position": null,
            "order": null,
            "overflow": null,
            "overflow_x": null,
            "overflow_y": null,
            "padding": null,
            "right": null,
            "top": null,
            "visibility": null,
            "width": null
          }
        },
        "80f96e4a22c949bc845c2c7bcbbe9773": {
          "model_module": "@jupyter-widgets/base",
          "model_module_version": "1.2.0",
          "model_name": "LayoutModel",
          "state": {
            "_model_module": "@jupyter-widgets/base",
            "_model_module_version": "1.2.0",
            "_model_name": "LayoutModel",
            "_view_count": null,
            "_view_module": "@jupyter-widgets/base",
            "_view_module_version": "1.2.0",
            "_view_name": "LayoutView",
            "align_content": null,
            "align_items": null,
            "align_self": null,
            "border": null,
            "bottom": null,
            "display": null,
            "flex": null,
            "flex_flow": null,
            "grid_area": null,
            "grid_auto_columns": null,
            "grid_auto_flow": null,
            "grid_auto_rows": null,
            "grid_column": null,
            "grid_gap": null,
            "grid_row": null,
            "grid_template_areas": null,
            "grid_template_columns": null,
            "grid_template_rows": null,
            "height": null,
            "justify_content": null,
            "justify_items": null,
            "left": null,
            "margin": null,
            "max_height": null,
            "max_width": null,
            "min_height": null,
            "min_width": null,
            "object_fit": null,
            "object_position": null,
            "order": null,
            "overflow": null,
            "overflow_x": null,
            "overflow_y": null,
            "padding": null,
            "right": null,
            "top": null,
            "visibility": null,
            "width": null
          }
        },
        "8762f16a8d2f466e9e57247e8a890c0d": {
          "model_module": "@jupyter-widgets/base",
          "model_module_version": "1.2.0",
          "model_name": "LayoutModel",
          "state": {
            "_model_module": "@jupyter-widgets/base",
            "_model_module_version": "1.2.0",
            "_model_name": "LayoutModel",
            "_view_count": null,
            "_view_module": "@jupyter-widgets/base",
            "_view_module_version": "1.2.0",
            "_view_name": "LayoutView",
            "align_content": null,
            "align_items": null,
            "align_self": null,
            "border": null,
            "bottom": null,
            "display": null,
            "flex": null,
            "flex_flow": null,
            "grid_area": null,
            "grid_auto_columns": null,
            "grid_auto_flow": null,
            "grid_auto_rows": null,
            "grid_column": null,
            "grid_gap": null,
            "grid_row": null,
            "grid_template_areas": null,
            "grid_template_columns": null,
            "grid_template_rows": null,
            "height": null,
            "justify_content": null,
            "justify_items": null,
            "left": null,
            "margin": null,
            "max_height": null,
            "max_width": null,
            "min_height": null,
            "min_width": null,
            "object_fit": null,
            "object_position": null,
            "order": null,
            "overflow": null,
            "overflow_x": null,
            "overflow_y": null,
            "padding": null,
            "right": null,
            "top": null,
            "visibility": null,
            "width": null
          }
        },
        "91f634bfffce4e188beba9f5b36db4e6": {
          "model_module": "@jupyter-widgets/base",
          "model_module_version": "1.2.0",
          "model_name": "LayoutModel",
          "state": {
            "_model_module": "@jupyter-widgets/base",
            "_model_module_version": "1.2.0",
            "_model_name": "LayoutModel",
            "_view_count": null,
            "_view_module": "@jupyter-widgets/base",
            "_view_module_version": "1.2.0",
            "_view_name": "LayoutView",
            "align_content": null,
            "align_items": null,
            "align_self": null,
            "border": null,
            "bottom": null,
            "display": null,
            "flex": null,
            "flex_flow": null,
            "grid_area": null,
            "grid_auto_columns": null,
            "grid_auto_flow": null,
            "grid_auto_rows": null,
            "grid_column": null,
            "grid_gap": null,
            "grid_row": null,
            "grid_template_areas": null,
            "grid_template_columns": null,
            "grid_template_rows": null,
            "height": null,
            "justify_content": null,
            "justify_items": null,
            "left": null,
            "margin": null,
            "max_height": null,
            "max_width": null,
            "min_height": null,
            "min_width": null,
            "object_fit": null,
            "object_position": null,
            "order": null,
            "overflow": null,
            "overflow_x": null,
            "overflow_y": null,
            "padding": null,
            "right": null,
            "top": null,
            "visibility": null,
            "width": null
          }
        },
        "9347d65ef64849548d9662f21aa38f32": {
          "model_module": "@jupyter-widgets/controls",
          "model_module_version": "1.5.0",
          "model_name": "FloatProgressModel",
          "state": {
            "_dom_classes": [],
            "_model_module": "@jupyter-widgets/controls",
            "_model_module_version": "1.5.0",
            "_model_name": "FloatProgressModel",
            "_view_count": null,
            "_view_module": "@jupyter-widgets/controls",
            "_view_module_version": "1.5.0",
            "_view_name": "ProgressView",
            "bar_style": "success",
            "description": "",
            "description_tooltip": null,
            "layout": "IPY_MODEL_46fb81953d5f4c828228a26c8098506a",
            "max": 1,
            "min": 0,
            "orientation": "horizontal",
            "style": "IPY_MODEL_ba7d6e80a98f40bbb0e724d536c6b1ed",
            "value": 1
          }
        },
        "a0a779cc187e442faaad12057ac544d2": {
          "model_module": "@jupyter-widgets/controls",
          "model_module_version": "1.5.0",
          "model_name": "HTMLModel",
          "state": {
            "_dom_classes": [],
            "_model_module": "@jupyter-widgets/controls",
            "_model_module_version": "1.5.0",
            "_model_name": "HTMLModel",
            "_view_count": null,
            "_view_module": "@jupyter-widgets/controls",
            "_view_module_version": "1.5.0",
            "_view_name": "HTMLView",
            "description": "",
            "description_tooltip": null,
            "layout": "IPY_MODEL_8762f16a8d2f466e9e57247e8a890c0d",
            "placeholder": "​",
            "style": "IPY_MODEL_591fa1ca271445d2b234fb4aff60c6d4",
            "value": "Summarize dataset: 100%"
          }
        },
        "a881abd4906d4941b6935a7d6baf2df5": {
          "model_module": "@jupyter-widgets/controls",
          "model_module_version": "1.5.0",
          "model_name": "FloatProgressModel",
          "state": {
            "_dom_classes": [],
            "_model_module": "@jupyter-widgets/controls",
            "_model_module_version": "1.5.0",
            "_model_name": "FloatProgressModel",
            "_view_count": null,
            "_view_module": "@jupyter-widgets/controls",
            "_view_module_version": "1.5.0",
            "_view_name": "ProgressView",
            "bar_style": "success",
            "description": "",
            "description_tooltip": null,
            "layout": "IPY_MODEL_5ec37d23971d4cf78dbe24ad06dcb3e5",
            "max": 5,
            "min": 0,
            "orientation": "horizontal",
            "style": "IPY_MODEL_d5b0986a9f9f4604a56de982dd44902a",
            "value": 5
          }
        },
        "ba2c23fc4e3548249c1237cb2dcdadc5": {
          "model_module": "@jupyter-widgets/base",
          "model_module_version": "1.2.0",
          "model_name": "LayoutModel",
          "state": {
            "_model_module": "@jupyter-widgets/base",
            "_model_module_version": "1.2.0",
            "_model_name": "LayoutModel",
            "_view_count": null,
            "_view_module": "@jupyter-widgets/base",
            "_view_module_version": "1.2.0",
            "_view_name": "LayoutView",
            "align_content": null,
            "align_items": null,
            "align_self": null,
            "border": null,
            "bottom": null,
            "display": null,
            "flex": null,
            "flex_flow": null,
            "grid_area": null,
            "grid_auto_columns": null,
            "grid_auto_flow": null,
            "grid_auto_rows": null,
            "grid_column": null,
            "grid_gap": null,
            "grid_row": null,
            "grid_template_areas": null,
            "grid_template_columns": null,
            "grid_template_rows": null,
            "height": null,
            "justify_content": null,
            "justify_items": null,
            "left": null,
            "margin": null,
            "max_height": null,
            "max_width": null,
            "min_height": null,
            "min_width": null,
            "object_fit": null,
            "object_position": null,
            "order": null,
            "overflow": null,
            "overflow_x": null,
            "overflow_y": null,
            "padding": null,
            "right": null,
            "top": null,
            "visibility": null,
            "width": null
          }
        },
        "ba7d6e80a98f40bbb0e724d536c6b1ed": {
          "model_module": "@jupyter-widgets/controls",
          "model_module_version": "1.5.0",
          "model_name": "ProgressStyleModel",
          "state": {
            "_model_module": "@jupyter-widgets/controls",
            "_model_module_version": "1.5.0",
            "_model_name": "ProgressStyleModel",
            "_view_count": null,
            "_view_module": "@jupyter-widgets/base",
            "_view_module_version": "1.2.0",
            "_view_name": "StyleView",
            "bar_color": null,
            "description_width": ""
          }
        },
        "bad229a07e6940368d10be81228f995d": {
          "model_module": "@jupyter-widgets/base",
          "model_module_version": "1.2.0",
          "model_name": "LayoutModel",
          "state": {
            "_model_module": "@jupyter-widgets/base",
            "_model_module_version": "1.2.0",
            "_model_name": "LayoutModel",
            "_view_count": null,
            "_view_module": "@jupyter-widgets/base",
            "_view_module_version": "1.2.0",
            "_view_name": "LayoutView",
            "align_content": null,
            "align_items": null,
            "align_self": null,
            "border": null,
            "bottom": null,
            "display": null,
            "flex": null,
            "flex_flow": null,
            "grid_area": null,
            "grid_auto_columns": null,
            "grid_auto_flow": null,
            "grid_auto_rows": null,
            "grid_column": null,
            "grid_gap": null,
            "grid_row": null,
            "grid_template_areas": null,
            "grid_template_columns": null,
            "grid_template_rows": null,
            "height": null,
            "justify_content": null,
            "justify_items": null,
            "left": null,
            "margin": null,
            "max_height": null,
            "max_width": null,
            "min_height": null,
            "min_width": null,
            "object_fit": null,
            "object_position": null,
            "order": null,
            "overflow": null,
            "overflow_x": null,
            "overflow_y": null,
            "padding": null,
            "right": null,
            "top": null,
            "visibility": null,
            "width": null
          }
        },
        "bdda6133724f4eb1b3e273b660108e1d": {
          "model_module": "@jupyter-widgets/base",
          "model_module_version": "1.2.0",
          "model_name": "LayoutModel",
          "state": {
            "_model_module": "@jupyter-widgets/base",
            "_model_module_version": "1.2.0",
            "_model_name": "LayoutModel",
            "_view_count": null,
            "_view_module": "@jupyter-widgets/base",
            "_view_module_version": "1.2.0",
            "_view_name": "LayoutView",
            "align_content": null,
            "align_items": null,
            "align_self": null,
            "border": null,
            "bottom": null,
            "display": null,
            "flex": null,
            "flex_flow": null,
            "grid_area": null,
            "grid_auto_columns": null,
            "grid_auto_flow": null,
            "grid_auto_rows": null,
            "grid_column": null,
            "grid_gap": null,
            "grid_row": null,
            "grid_template_areas": null,
            "grid_template_columns": null,
            "grid_template_rows": null,
            "height": null,
            "justify_content": null,
            "justify_items": null,
            "left": null,
            "margin": null,
            "max_height": null,
            "max_width": null,
            "min_height": null,
            "min_width": null,
            "object_fit": null,
            "object_position": null,
            "order": null,
            "overflow": null,
            "overflow_x": null,
            "overflow_y": null,
            "padding": null,
            "right": null,
            "top": null,
            "visibility": null,
            "width": null
          }
        },
        "be0987450b674d64b9d0f51037266d3e": {
          "model_module": "@jupyter-widgets/base",
          "model_module_version": "1.2.0",
          "model_name": "LayoutModel",
          "state": {
            "_model_module": "@jupyter-widgets/base",
            "_model_module_version": "1.2.0",
            "_model_name": "LayoutModel",
            "_view_count": null,
            "_view_module": "@jupyter-widgets/base",
            "_view_module_version": "1.2.0",
            "_view_name": "LayoutView",
            "align_content": null,
            "align_items": null,
            "align_self": null,
            "border": null,
            "bottom": null,
            "display": null,
            "flex": null,
            "flex_flow": null,
            "grid_area": null,
            "grid_auto_columns": null,
            "grid_auto_flow": null,
            "grid_auto_rows": null,
            "grid_column": null,
            "grid_gap": null,
            "grid_row": null,
            "grid_template_areas": null,
            "grid_template_columns": null,
            "grid_template_rows": null,
            "height": null,
            "justify_content": null,
            "justify_items": null,
            "left": null,
            "margin": null,
            "max_height": null,
            "max_width": null,
            "min_height": null,
            "min_width": null,
            "object_fit": null,
            "object_position": null,
            "order": null,
            "overflow": null,
            "overflow_x": null,
            "overflow_y": null,
            "padding": null,
            "right": null,
            "top": null,
            "visibility": null,
            "width": null
          }
        },
        "be538189c6db4f7685637f3871c2857c": {
          "model_module": "@jupyter-widgets/controls",
          "model_module_version": "1.5.0",
          "model_name": "DescriptionStyleModel",
          "state": {
            "_model_module": "@jupyter-widgets/controls",
            "_model_module_version": "1.5.0",
            "_model_name": "DescriptionStyleModel",
            "_view_count": null,
            "_view_module": "@jupyter-widgets/base",
            "_view_module_version": "1.2.0",
            "_view_name": "StyleView",
            "description_width": ""
          }
        },
        "c2e159f5f67940e5804470839dda3025": {
          "model_module": "@jupyter-widgets/controls",
          "model_module_version": "1.5.0",
          "model_name": "FloatProgressModel",
          "state": {
            "_dom_classes": [],
            "_model_module": "@jupyter-widgets/controls",
            "_model_module_version": "1.5.0",
            "_model_name": "FloatProgressModel",
            "_view_count": null,
            "_view_module": "@jupyter-widgets/controls",
            "_view_module_version": "1.5.0",
            "_view_name": "ProgressView",
            "bar_style": "success",
            "description": "",
            "description_tooltip": null,
            "layout": "IPY_MODEL_bad229a07e6940368d10be81228f995d",
            "max": 1,
            "min": 0,
            "orientation": "horizontal",
            "style": "IPY_MODEL_6f74bb95259c4efdb054a66d41fdd71d",
            "value": 1
          }
        },
        "d5b0986a9f9f4604a56de982dd44902a": {
          "model_module": "@jupyter-widgets/controls",
          "model_module_version": "1.5.0",
          "model_name": "ProgressStyleModel",
          "state": {
            "_model_module": "@jupyter-widgets/controls",
            "_model_module_version": "1.5.0",
            "_model_name": "ProgressStyleModel",
            "_view_count": null,
            "_view_module": "@jupyter-widgets/base",
            "_view_module_version": "1.2.0",
            "_view_name": "StyleView",
            "bar_color": null,
            "description_width": ""
          }
        },
        "dc7acc6f12984781a062bfe215e6d33a": {
          "model_module": "@jupyter-widgets/controls",
          "model_module_version": "1.5.0",
          "model_name": "HBoxModel",
          "state": {
            "_dom_classes": [],
            "_model_module": "@jupyter-widgets/controls",
            "_model_module_version": "1.5.0",
            "_model_name": "HBoxModel",
            "_view_count": null,
            "_view_module": "@jupyter-widgets/controls",
            "_view_module_version": "1.5.0",
            "_view_name": "HBoxView",
            "box_style": "",
            "children": [
              "IPY_MODEL_a0a779cc187e442faaad12057ac544d2",
              "IPY_MODEL_a881abd4906d4941b6935a7d6baf2df5",
              "IPY_MODEL_f1bfbd5138bf494fbf5c7ec0ddafa058"
            ],
            "layout": "IPY_MODEL_fc9904c0be0a4c3b9c793fa3d9953a3d"
          }
        },
        "e4b7570775de4005b2d690ded3d361b1": {
          "model_module": "@jupyter-widgets/controls",
          "model_module_version": "1.5.0",
          "model_name": "HTMLModel",
          "state": {
            "_dom_classes": [],
            "_model_module": "@jupyter-widgets/controls",
            "_model_module_version": "1.5.0",
            "_model_name": "HTMLModel",
            "_view_count": null,
            "_view_module": "@jupyter-widgets/controls",
            "_view_module_version": "1.5.0",
            "_view_name": "HTMLView",
            "description": "",
            "description_tooltip": null,
            "layout": "IPY_MODEL_f6efa072591b450795debade3b68d7ca",
            "placeholder": "​",
            "style": "IPY_MODEL_5ef2a7df1b844b7da7c5a9d1330962b6",
            "value": " 1/1 [00:03&lt;00:00,  3.80s/it]"
          }
        },
        "e52fcec0cec24bb4b16d8de0efbf5f04": {
          "model_module": "@jupyter-widgets/base",
          "model_module_version": "1.2.0",
          "model_name": "LayoutModel",
          "state": {
            "_model_module": "@jupyter-widgets/base",
            "_model_module_version": "1.2.0",
            "_model_name": "LayoutModel",
            "_view_count": null,
            "_view_module": "@jupyter-widgets/base",
            "_view_module_version": "1.2.0",
            "_view_name": "LayoutView",
            "align_content": null,
            "align_items": null,
            "align_self": null,
            "border": null,
            "bottom": null,
            "display": null,
            "flex": null,
            "flex_flow": null,
            "grid_area": null,
            "grid_auto_columns": null,
            "grid_auto_flow": null,
            "grid_auto_rows": null,
            "grid_column": null,
            "grid_gap": null,
            "grid_row": null,
            "grid_template_areas": null,
            "grid_template_columns": null,
            "grid_template_rows": null,
            "height": null,
            "justify_content": null,
            "justify_items": null,
            "left": null,
            "margin": null,
            "max_height": null,
            "max_width": null,
            "min_height": null,
            "min_width": null,
            "object_fit": null,
            "object_position": null,
            "order": null,
            "overflow": null,
            "overflow_x": null,
            "overflow_y": null,
            "padding": null,
            "right": null,
            "top": null,
            "visibility": null,
            "width": null
          }
        },
        "e94a7e81a7cf490981a3b8176af5cbad": {
          "model_module": "@jupyter-widgets/controls",
          "model_module_version": "1.5.0",
          "model_name": "DescriptionStyleModel",
          "state": {
            "_model_module": "@jupyter-widgets/controls",
            "_model_module_version": "1.5.0",
            "_model_name": "DescriptionStyleModel",
            "_view_count": null,
            "_view_module": "@jupyter-widgets/base",
            "_view_module_version": "1.2.0",
            "_view_name": "StyleView",
            "description_width": ""
          }
        },
        "f1bfbd5138bf494fbf5c7ec0ddafa058": {
          "model_module": "@jupyter-widgets/controls",
          "model_module_version": "1.5.0",
          "model_name": "HTMLModel",
          "state": {
            "_dom_classes": [],
            "_model_module": "@jupyter-widgets/controls",
            "_model_module_version": "1.5.0",
            "_model_name": "HTMLModel",
            "_view_count": null,
            "_view_module": "@jupyter-widgets/controls",
            "_view_module_version": "1.5.0",
            "_view_name": "HTMLView",
            "description": "",
            "description_tooltip": null,
            "layout": "IPY_MODEL_f9fb34c8b3e448f3b79b658d25af7b67",
            "placeholder": "​",
            "style": "IPY_MODEL_e94a7e81a7cf490981a3b8176af5cbad",
            "value": " 84/84 [00:52&lt;00:00,  2.88it/s, Completed]"
          }
        },
        "f6efa072591b450795debade3b68d7ca": {
          "model_module": "@jupyter-widgets/base",
          "model_module_version": "1.2.0",
          "model_name": "LayoutModel",
          "state": {
            "_model_module": "@jupyter-widgets/base",
            "_model_module_version": "1.2.0",
            "_model_name": "LayoutModel",
            "_view_count": null,
            "_view_module": "@jupyter-widgets/base",
            "_view_module_version": "1.2.0",
            "_view_name": "LayoutView",
            "align_content": null,
            "align_items": null,
            "align_self": null,
            "border": null,
            "bottom": null,
            "display": null,
            "flex": null,
            "flex_flow": null,
            "grid_area": null,
            "grid_auto_columns": null,
            "grid_auto_flow": null,
            "grid_auto_rows": null,
            "grid_column": null,
            "grid_gap": null,
            "grid_row": null,
            "grid_template_areas": null,
            "grid_template_columns": null,
            "grid_template_rows": null,
            "height": null,
            "justify_content": null,
            "justify_items": null,
            "left": null,
            "margin": null,
            "max_height": null,
            "max_width": null,
            "min_height": null,
            "min_width": null,
            "object_fit": null,
            "object_position": null,
            "order": null,
            "overflow": null,
            "overflow_x": null,
            "overflow_y": null,
            "padding": null,
            "right": null,
            "top": null,
            "visibility": null,
            "width": null
          }
        },
        "f9fb34c8b3e448f3b79b658d25af7b67": {
          "model_module": "@jupyter-widgets/base",
          "model_module_version": "1.2.0",
          "model_name": "LayoutModel",
          "state": {
            "_model_module": "@jupyter-widgets/base",
            "_model_module_version": "1.2.0",
            "_model_name": "LayoutModel",
            "_view_count": null,
            "_view_module": "@jupyter-widgets/base",
            "_view_module_version": "1.2.0",
            "_view_name": "LayoutView",
            "align_content": null,
            "align_items": null,
            "align_self": null,
            "border": null,
            "bottom": null,
            "display": null,
            "flex": null,
            "flex_flow": null,
            "grid_area": null,
            "grid_auto_columns": null,
            "grid_auto_flow": null,
            "grid_auto_rows": null,
            "grid_column": null,
            "grid_gap": null,
            "grid_row": null,
            "grid_template_areas": null,
            "grid_template_columns": null,
            "grid_template_rows": null,
            "height": null,
            "justify_content": null,
            "justify_items": null,
            "left": null,
            "margin": null,
            "max_height": null,
            "max_width": null,
            "min_height": null,
            "min_width": null,
            "object_fit": null,
            "object_position": null,
            "order": null,
            "overflow": null,
            "overflow_x": null,
            "overflow_y": null,
            "padding": null,
            "right": null,
            "top": null,
            "visibility": null,
            "width": null
          }
        },
        "fc9904c0be0a4c3b9c793fa3d9953a3d": {
          "model_module": "@jupyter-widgets/base",
          "model_module_version": "1.2.0",
          "model_name": "LayoutModel",
          "state": {
            "_model_module": "@jupyter-widgets/base",
            "_model_module_version": "1.2.0",
            "_model_name": "LayoutModel",
            "_view_count": null,
            "_view_module": "@jupyter-widgets/base",
            "_view_module_version": "1.2.0",
            "_view_name": "LayoutView",
            "align_content": null,
            "align_items": null,
            "align_self": null,
            "border": null,
            "bottom": null,
            "display": null,
            "flex": null,
            "flex_flow": null,
            "grid_area": null,
            "grid_auto_columns": null,
            "grid_auto_flow": null,
            "grid_auto_rows": null,
            "grid_column": null,
            "grid_gap": null,
            "grid_row": null,
            "grid_template_areas": null,
            "grid_template_columns": null,
            "grid_template_rows": null,
            "height": null,
            "justify_content": null,
            "justify_items": null,
            "left": null,
            "margin": null,
            "max_height": null,
            "max_width": null,
            "min_height": null,
            "min_width": null,
            "object_fit": null,
            "object_position": null,
            "order": null,
            "overflow": null,
            "overflow_x": null,
            "overflow_y": null,
            "padding": null,
            "right": null,
            "top": null,
            "visibility": null,
            "width": null
          }
        }
      }
    }
  },
  "nbformat": 4,
  "nbformat_minor": 0
}