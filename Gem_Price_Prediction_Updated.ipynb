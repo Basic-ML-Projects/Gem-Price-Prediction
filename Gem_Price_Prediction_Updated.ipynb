{
  "cells": [
    {
      "cell_type": "code",
      "execution_count": 1,
      "metadata": {
        "id": "R8Q4IZg34xKr",
        "colab": {
          "base_uri": "https://localhost:8080/"
        },
        "outputId": "0a2650b3-c5aa-4d24-a4e9-da5395d277ff"
      },
      "outputs": [
        {
          "output_type": "stream",
          "name": "stdout",
          "text": [
            "\u001b[2K     \u001b[90m━━━━━━━━━━━━━━━━━━━━━━━━━━━━━━━━━━━━━━━━\u001b[0m \u001b[32m380.1/380.1 kB\u001b[0m \u001b[31m3.1 MB/s\u001b[0m eta \u001b[36m0:00:00\u001b[0m\n",
            "\u001b[2K     \u001b[90m━━━━━━━━━━━━━━━━━━━━━━━━━━━━━━━━━━━━━━━━\u001b[0m \u001b[32m233.0/233.0 kB\u001b[0m \u001b[31m8.5 MB/s\u001b[0m eta \u001b[36m0:00:00\u001b[0m\n",
            "\u001b[2K     \u001b[90m━━━━━━━━━━━━━━━━━━━━━━━━━━━━━━━━━━━━━━━━\u001b[0m \u001b[32m78.6/78.6 kB\u001b[0m \u001b[31m2.9 MB/s\u001b[0m eta \u001b[36m0:00:00\u001b[0m\n",
            "\u001b[?25h"
          ]
        }
      ],
      "source": [
        "# Installing the dependencies not already provided by colab\n",
        "!pip install -q optuna"
      ]
    },
    {
      "cell_type": "code",
      "execution_count": 2,
      "metadata": {
        "id": "Pas1sXz1ZwGf"
      },
      "outputs": [],
      "source": [
        "# We do not care if any of our commands will be deprecated in the future\n",
        "import warnings\n",
        "warnings.filterwarnings(\"ignore\", category=DeprecationWarning)"
      ]
    },
    {
      "cell_type": "code",
      "execution_count": 33,
      "metadata": {
        "id": "KLmjfv_X4za2"
      },
      "outputs": [],
      "source": [
        "# Importing the libraries required for EDA\n",
        "import pandas as pd\n",
        "import matplotlib.pyplot as plt\n",
        "import seaborn as sns\n",
        "import numpy as np\n",
        "import time"
      ]
    },
    {
      "cell_type": "code",
      "execution_count": 47,
      "metadata": {
        "id": "MWBOGbV6xCej"
      },
      "outputs": [],
      "source": [
        "# Loading in the dataset\n",
        "def load_data():\n",
        "  return pd.read_csv('/content/train.csv')\n",
        "data = load_data()"
      ]
    },
    {
      "cell_type": "markdown",
      "metadata": {
        "id": "jao9Amw_atiQ"
      },
      "source": [
        "## Data Analysis"
      ]
    },
    {
      "cell_type": "code",
      "source": [
        "data.head()"
      ],
      "metadata": {
        "colab": {
          "base_uri": "https://localhost:8080/",
          "height": 206
        },
        "id": "xi8gcg_Wb2bL",
        "outputId": "e2816195-0c92-4b98-ccad-1593078079c9"
      },
      "execution_count": 13,
      "outputs": [
        {
          "output_type": "execute_result",
          "data": {
            "text/plain": [
              "   id  carat  cut  color  clarity  depth  table     x     y     z  price\n",
              "0   0   1.52    3      2        5   62.2   58.0  7.27  7.33  4.55  13619\n",
              "1   1   2.03    4      6        3   62.0   58.0  8.06  8.12  5.05  13387\n",
              "2   2   0.70    2      3        4   61.2   57.0  5.69  5.73  3.50   2772\n",
              "3   3   0.32    2      3        4   61.6   56.0  4.38  4.41  2.71    666\n",
              "4   4   1.70    3      3        5   62.6   59.0  7.65  7.61  4.77  14453"
            ],
            "text/html": [
              "\n",
              "  <div id=\"df-ea99b53c-a75e-4396-beee-0de9c9e62031\" class=\"colab-df-container\">\n",
              "    <div>\n",
              "<style scoped>\n",
              "    .dataframe tbody tr th:only-of-type {\n",
              "        vertical-align: middle;\n",
              "    }\n",
              "\n",
              "    .dataframe tbody tr th {\n",
              "        vertical-align: top;\n",
              "    }\n",
              "\n",
              "    .dataframe thead th {\n",
              "        text-align: right;\n",
              "    }\n",
              "</style>\n",
              "<table border=\"1\" class=\"dataframe\">\n",
              "  <thead>\n",
              "    <tr style=\"text-align: right;\">\n",
              "      <th></th>\n",
              "      <th>id</th>\n",
              "      <th>carat</th>\n",
              "      <th>cut</th>\n",
              "      <th>color</th>\n",
              "      <th>clarity</th>\n",
              "      <th>depth</th>\n",
              "      <th>table</th>\n",
              "      <th>x</th>\n",
              "      <th>y</th>\n",
              "      <th>z</th>\n",
              "      <th>price</th>\n",
              "    </tr>\n",
              "  </thead>\n",
              "  <tbody>\n",
              "    <tr>\n",
              "      <th>0</th>\n",
              "      <td>0</td>\n",
              "      <td>1.52</td>\n",
              "      <td>3</td>\n",
              "      <td>2</td>\n",
              "      <td>5</td>\n",
              "      <td>62.2</td>\n",
              "      <td>58.0</td>\n",
              "      <td>7.27</td>\n",
              "      <td>7.33</td>\n",
              "      <td>4.55</td>\n",
              "      <td>13619</td>\n",
              "    </tr>\n",
              "    <tr>\n",
              "      <th>1</th>\n",
              "      <td>1</td>\n",
              "      <td>2.03</td>\n",
              "      <td>4</td>\n",
              "      <td>6</td>\n",
              "      <td>3</td>\n",
              "      <td>62.0</td>\n",
              "      <td>58.0</td>\n",
              "      <td>8.06</td>\n",
              "      <td>8.12</td>\n",
              "      <td>5.05</td>\n",
              "      <td>13387</td>\n",
              "    </tr>\n",
              "    <tr>\n",
              "      <th>2</th>\n",
              "      <td>2</td>\n",
              "      <td>0.70</td>\n",
              "      <td>2</td>\n",
              "      <td>3</td>\n",
              "      <td>4</td>\n",
              "      <td>61.2</td>\n",
              "      <td>57.0</td>\n",
              "      <td>5.69</td>\n",
              "      <td>5.73</td>\n",
              "      <td>3.50</td>\n",
              "      <td>2772</td>\n",
              "    </tr>\n",
              "    <tr>\n",
              "      <th>3</th>\n",
              "      <td>3</td>\n",
              "      <td>0.32</td>\n",
              "      <td>2</td>\n",
              "      <td>3</td>\n",
              "      <td>4</td>\n",
              "      <td>61.6</td>\n",
              "      <td>56.0</td>\n",
              "      <td>4.38</td>\n",
              "      <td>4.41</td>\n",
              "      <td>2.71</td>\n",
              "      <td>666</td>\n",
              "    </tr>\n",
              "    <tr>\n",
              "      <th>4</th>\n",
              "      <td>4</td>\n",
              "      <td>1.70</td>\n",
              "      <td>3</td>\n",
              "      <td>3</td>\n",
              "      <td>5</td>\n",
              "      <td>62.6</td>\n",
              "      <td>59.0</td>\n",
              "      <td>7.65</td>\n",
              "      <td>7.61</td>\n",
              "      <td>4.77</td>\n",
              "      <td>14453</td>\n",
              "    </tr>\n",
              "  </tbody>\n",
              "</table>\n",
              "</div>\n",
              "    <div class=\"colab-df-buttons\">\n",
              "\n",
              "  <div class=\"colab-df-container\">\n",
              "    <button class=\"colab-df-convert\" onclick=\"convertToInteractive('df-ea99b53c-a75e-4396-beee-0de9c9e62031')\"\n",
              "            title=\"Convert this dataframe to an interactive table.\"\n",
              "            style=\"display:none;\">\n",
              "\n",
              "  <svg xmlns=\"http://www.w3.org/2000/svg\" height=\"24px\" viewBox=\"0 -960 960 960\">\n",
              "    <path d=\"M120-120v-720h720v720H120Zm60-500h600v-160H180v160Zm220 220h160v-160H400v160Zm0 220h160v-160H400v160ZM180-400h160v-160H180v160Zm440 0h160v-160H620v160ZM180-180h160v-160H180v160Zm440 0h160v-160H620v160Z\"/>\n",
              "  </svg>\n",
              "    </button>\n",
              "\n",
              "  <style>\n",
              "    .colab-df-container {\n",
              "      display:flex;\n",
              "      gap: 12px;\n",
              "    }\n",
              "\n",
              "    .colab-df-convert {\n",
              "      background-color: #E8F0FE;\n",
              "      border: none;\n",
              "      border-radius: 50%;\n",
              "      cursor: pointer;\n",
              "      display: none;\n",
              "      fill: #1967D2;\n",
              "      height: 32px;\n",
              "      padding: 0 0 0 0;\n",
              "      width: 32px;\n",
              "    }\n",
              "\n",
              "    .colab-df-convert:hover {\n",
              "      background-color: #E2EBFA;\n",
              "      box-shadow: 0px 1px 2px rgba(60, 64, 67, 0.3), 0px 1px 3px 1px rgba(60, 64, 67, 0.15);\n",
              "      fill: #174EA6;\n",
              "    }\n",
              "\n",
              "    .colab-df-buttons div {\n",
              "      margin-bottom: 4px;\n",
              "    }\n",
              "\n",
              "    [theme=dark] .colab-df-convert {\n",
              "      background-color: #3B4455;\n",
              "      fill: #D2E3FC;\n",
              "    }\n",
              "\n",
              "    [theme=dark] .colab-df-convert:hover {\n",
              "      background-color: #434B5C;\n",
              "      box-shadow: 0px 1px 3px 1px rgba(0, 0, 0, 0.15);\n",
              "      filter: drop-shadow(0px 1px 2px rgba(0, 0, 0, 0.3));\n",
              "      fill: #FFFFFF;\n",
              "    }\n",
              "  </style>\n",
              "\n",
              "    <script>\n",
              "      const buttonEl =\n",
              "        document.querySelector('#df-ea99b53c-a75e-4396-beee-0de9c9e62031 button.colab-df-convert');\n",
              "      buttonEl.style.display =\n",
              "        google.colab.kernel.accessAllowed ? 'block' : 'none';\n",
              "\n",
              "      async function convertToInteractive(key) {\n",
              "        const element = document.querySelector('#df-ea99b53c-a75e-4396-beee-0de9c9e62031');\n",
              "        const dataTable =\n",
              "          await google.colab.kernel.invokeFunction('convertToInteractive',\n",
              "                                                    [key], {});\n",
              "        if (!dataTable) return;\n",
              "\n",
              "        const docLinkHtml = 'Like what you see? Visit the ' +\n",
              "          '<a target=\"_blank\" href=https://colab.research.google.com/notebooks/data_table.ipynb>data table notebook</a>'\n",
              "          + ' to learn more about interactive tables.';\n",
              "        element.innerHTML = '';\n",
              "        dataTable['output_type'] = 'display_data';\n",
              "        await google.colab.output.renderOutput(dataTable, element);\n",
              "        const docLink = document.createElement('div');\n",
              "        docLink.innerHTML = docLinkHtml;\n",
              "        element.appendChild(docLink);\n",
              "      }\n",
              "    </script>\n",
              "  </div>\n",
              "\n",
              "\n",
              "<div id=\"df-280f4e10-0f7b-404f-9174-871bf7a18ba8\">\n",
              "  <button class=\"colab-df-quickchart\" onclick=\"quickchart('df-280f4e10-0f7b-404f-9174-871bf7a18ba8')\"\n",
              "            title=\"Suggest charts\"\n",
              "            style=\"display:none;\">\n",
              "\n",
              "<svg xmlns=\"http://www.w3.org/2000/svg\" height=\"24px\"viewBox=\"0 0 24 24\"\n",
              "     width=\"24px\">\n",
              "    <g>\n",
              "        <path d=\"M19 3H5c-1.1 0-2 .9-2 2v14c0 1.1.9 2 2 2h14c1.1 0 2-.9 2-2V5c0-1.1-.9-2-2-2zM9 17H7v-7h2v7zm4 0h-2V7h2v10zm4 0h-2v-4h2v4z\"/>\n",
              "    </g>\n",
              "</svg>\n",
              "  </button>\n",
              "\n",
              "<style>\n",
              "  .colab-df-quickchart {\n",
              "      --bg-color: #E8F0FE;\n",
              "      --fill-color: #1967D2;\n",
              "      --hover-bg-color: #E2EBFA;\n",
              "      --hover-fill-color: #174EA6;\n",
              "      --disabled-fill-color: #AAA;\n",
              "      --disabled-bg-color: #DDD;\n",
              "  }\n",
              "\n",
              "  [theme=dark] .colab-df-quickchart {\n",
              "      --bg-color: #3B4455;\n",
              "      --fill-color: #D2E3FC;\n",
              "      --hover-bg-color: #434B5C;\n",
              "      --hover-fill-color: #FFFFFF;\n",
              "      --disabled-bg-color: #3B4455;\n",
              "      --disabled-fill-color: #666;\n",
              "  }\n",
              "\n",
              "  .colab-df-quickchart {\n",
              "    background-color: var(--bg-color);\n",
              "    border: none;\n",
              "    border-radius: 50%;\n",
              "    cursor: pointer;\n",
              "    display: none;\n",
              "    fill: var(--fill-color);\n",
              "    height: 32px;\n",
              "    padding: 0;\n",
              "    width: 32px;\n",
              "  }\n",
              "\n",
              "  .colab-df-quickchart:hover {\n",
              "    background-color: var(--hover-bg-color);\n",
              "    box-shadow: 0 1px 2px rgba(60, 64, 67, 0.3), 0 1px 3px 1px rgba(60, 64, 67, 0.15);\n",
              "    fill: var(--button-hover-fill-color);\n",
              "  }\n",
              "\n",
              "  .colab-df-quickchart-complete:disabled,\n",
              "  .colab-df-quickchart-complete:disabled:hover {\n",
              "    background-color: var(--disabled-bg-color);\n",
              "    fill: var(--disabled-fill-color);\n",
              "    box-shadow: none;\n",
              "  }\n",
              "\n",
              "  .colab-df-spinner {\n",
              "    border: 2px solid var(--fill-color);\n",
              "    border-color: transparent;\n",
              "    border-bottom-color: var(--fill-color);\n",
              "    animation:\n",
              "      spin 1s steps(1) infinite;\n",
              "  }\n",
              "\n",
              "  @keyframes spin {\n",
              "    0% {\n",
              "      border-color: transparent;\n",
              "      border-bottom-color: var(--fill-color);\n",
              "      border-left-color: var(--fill-color);\n",
              "    }\n",
              "    20% {\n",
              "      border-color: transparent;\n",
              "      border-left-color: var(--fill-color);\n",
              "      border-top-color: var(--fill-color);\n",
              "    }\n",
              "    30% {\n",
              "      border-color: transparent;\n",
              "      border-left-color: var(--fill-color);\n",
              "      border-top-color: var(--fill-color);\n",
              "      border-right-color: var(--fill-color);\n",
              "    }\n",
              "    40% {\n",
              "      border-color: transparent;\n",
              "      border-right-color: var(--fill-color);\n",
              "      border-top-color: var(--fill-color);\n",
              "    }\n",
              "    60% {\n",
              "      border-color: transparent;\n",
              "      border-right-color: var(--fill-color);\n",
              "    }\n",
              "    80% {\n",
              "      border-color: transparent;\n",
              "      border-right-color: var(--fill-color);\n",
              "      border-bottom-color: var(--fill-color);\n",
              "    }\n",
              "    90% {\n",
              "      border-color: transparent;\n",
              "      border-bottom-color: var(--fill-color);\n",
              "    }\n",
              "  }\n",
              "</style>\n",
              "\n",
              "  <script>\n",
              "    async function quickchart(key) {\n",
              "      const quickchartButtonEl =\n",
              "        document.querySelector('#' + key + ' button');\n",
              "      quickchartButtonEl.disabled = true;  // To prevent multiple clicks.\n",
              "      quickchartButtonEl.classList.add('colab-df-spinner');\n",
              "      try {\n",
              "        const charts = await google.colab.kernel.invokeFunction(\n",
              "            'suggestCharts', [key], {});\n",
              "      } catch (error) {\n",
              "        console.error('Error during call to suggestCharts:', error);\n",
              "      }\n",
              "      quickchartButtonEl.classList.remove('colab-df-spinner');\n",
              "      quickchartButtonEl.classList.add('colab-df-quickchart-complete');\n",
              "    }\n",
              "    (() => {\n",
              "      let quickchartButtonEl =\n",
              "        document.querySelector('#df-280f4e10-0f7b-404f-9174-871bf7a18ba8 button');\n",
              "      quickchartButtonEl.style.display =\n",
              "        google.colab.kernel.accessAllowed ? 'block' : 'none';\n",
              "    })();\n",
              "  </script>\n",
              "</div>\n",
              "\n",
              "    </div>\n",
              "  </div>\n"
            ],
            "application/vnd.google.colaboratory.intrinsic+json": {
              "type": "dataframe",
              "variable_name": "data"
            }
          },
          "metadata": {},
          "execution_count": 13
        }
      ]
    },
    {
      "cell_type": "code",
      "source": [
        "data.info()"
      ],
      "metadata": {
        "colab": {
          "base_uri": "https://localhost:8080/"
        },
        "id": "k2hRRnlIb34F",
        "outputId": "f65ff1f5-8f05-4240-ebfe-1c944affb4f3"
      },
      "execution_count": 14,
      "outputs": [
        {
          "output_type": "stream",
          "name": "stdout",
          "text": [
            "<class 'pandas.core.frame.DataFrame'>\n",
            "RangeIndex: 193573 entries, 0 to 193572\n",
            "Data columns (total 11 columns):\n",
            " #   Column   Non-Null Count   Dtype  \n",
            "---  ------   --------------   -----  \n",
            " 0   id       193573 non-null  int64  \n",
            " 1   carat    193573 non-null  float64\n",
            " 2   cut      193573 non-null  int64  \n",
            " 3   color    193573 non-null  int64  \n",
            " 4   clarity  193573 non-null  int64  \n",
            " 5   depth    193573 non-null  float64\n",
            " 6   table    193573 non-null  float64\n",
            " 7   x        193573 non-null  float64\n",
            " 8   y        193573 non-null  float64\n",
            " 9   z        193573 non-null  float64\n",
            " 10  price    193573 non-null  int64  \n",
            "dtypes: float64(6), int64(5)\n",
            "memory usage: 16.2 MB\n"
          ]
        }
      ]
    },
    {
      "cell_type": "code",
      "source": [
        "data = data.drop(columns=['id'])"
      ],
      "metadata": {
        "id": "kJmREHsJhXZw"
      },
      "execution_count": 58,
      "outputs": []
    },
    {
      "cell_type": "code",
      "source": [
        "data.describe()"
      ],
      "metadata": {
        "colab": {
          "base_uri": "https://localhost:8080/",
          "height": 320
        },
        "id": "znH6BISGdx9m",
        "outputId": "31aa7441-0cc6-4348-9ba9-46722e80ff0a"
      },
      "execution_count": 22,
      "outputs": [
        {
          "output_type": "execute_result",
          "data": {
            "text/plain": [
              "                  id          carat            cut          color  \\\n",
              "count  193573.000000  193573.000000  193573.000000  193573.000000   \n",
              "mean    96786.000000       0.790688       2.565048       2.516157   \n",
              "std     55879.856166       0.462688       0.903674       1.623091   \n",
              "min         0.000000       0.200000       0.000000       0.000000   \n",
              "25%     48393.000000       0.400000       2.000000       1.000000   \n",
              "50%     96786.000000       0.700000       2.000000       3.000000   \n",
              "75%    145179.000000       1.030000       3.000000       4.000000   \n",
              "max    193572.000000       3.500000       4.000000       6.000000   \n",
              "\n",
              "             clarity          depth          table              x  \\\n",
              "count  193573.000000  193573.000000  193573.000000  193573.000000   \n",
              "mean        3.818342      61.820574      57.227675       5.715312   \n",
              "std         1.632285       1.081704       1.918844       1.109422   \n",
              "min         0.000000      52.100000      49.000000       0.000000   \n",
              "25%         2.000000      61.300000      56.000000       4.700000   \n",
              "50%         4.000000      61.900000      57.000000       5.700000   \n",
              "75%         5.000000      62.400000      58.000000       6.510000   \n",
              "max         7.000000      71.600000      79.000000       9.650000   \n",
              "\n",
              "                   y              z          price  \n",
              "count  193573.000000  193573.000000  193573.000000  \n",
              "mean        5.720094       3.534246    3969.155414  \n",
              "std         1.102333       0.688922    4034.374138  \n",
              "min         0.000000       0.000000     326.000000  \n",
              "25%         4.710000       2.900000     951.000000  \n",
              "50%         5.720000       3.530000    2401.000000  \n",
              "75%         6.510000       4.030000    5408.000000  \n",
              "max        10.010000      31.300000   18818.000000  "
            ],
            "text/html": [
              "\n",
              "  <div id=\"df-f5739ca6-003f-498b-8129-e26ed521cf09\" class=\"colab-df-container\">\n",
              "    <div>\n",
              "<style scoped>\n",
              "    .dataframe tbody tr th:only-of-type {\n",
              "        vertical-align: middle;\n",
              "    }\n",
              "\n",
              "    .dataframe tbody tr th {\n",
              "        vertical-align: top;\n",
              "    }\n",
              "\n",
              "    .dataframe thead th {\n",
              "        text-align: right;\n",
              "    }\n",
              "</style>\n",
              "<table border=\"1\" class=\"dataframe\">\n",
              "  <thead>\n",
              "    <tr style=\"text-align: right;\">\n",
              "      <th></th>\n",
              "      <th>id</th>\n",
              "      <th>carat</th>\n",
              "      <th>cut</th>\n",
              "      <th>color</th>\n",
              "      <th>clarity</th>\n",
              "      <th>depth</th>\n",
              "      <th>table</th>\n",
              "      <th>x</th>\n",
              "      <th>y</th>\n",
              "      <th>z</th>\n",
              "      <th>price</th>\n",
              "    </tr>\n",
              "  </thead>\n",
              "  <tbody>\n",
              "    <tr>\n",
              "      <th>count</th>\n",
              "      <td>193573.000000</td>\n",
              "      <td>193573.000000</td>\n",
              "      <td>193573.000000</td>\n",
              "      <td>193573.000000</td>\n",
              "      <td>193573.000000</td>\n",
              "      <td>193573.000000</td>\n",
              "      <td>193573.000000</td>\n",
              "      <td>193573.000000</td>\n",
              "      <td>193573.000000</td>\n",
              "      <td>193573.000000</td>\n",
              "      <td>193573.000000</td>\n",
              "    </tr>\n",
              "    <tr>\n",
              "      <th>mean</th>\n",
              "      <td>96786.000000</td>\n",
              "      <td>0.790688</td>\n",
              "      <td>2.565048</td>\n",
              "      <td>2.516157</td>\n",
              "      <td>3.818342</td>\n",
              "      <td>61.820574</td>\n",
              "      <td>57.227675</td>\n",
              "      <td>5.715312</td>\n",
              "      <td>5.720094</td>\n",
              "      <td>3.534246</td>\n",
              "      <td>3969.155414</td>\n",
              "    </tr>\n",
              "    <tr>\n",
              "      <th>std</th>\n",
              "      <td>55879.856166</td>\n",
              "      <td>0.462688</td>\n",
              "      <td>0.903674</td>\n",
              "      <td>1.623091</td>\n",
              "      <td>1.632285</td>\n",
              "      <td>1.081704</td>\n",
              "      <td>1.918844</td>\n",
              "      <td>1.109422</td>\n",
              "      <td>1.102333</td>\n",
              "      <td>0.688922</td>\n",
              "      <td>4034.374138</td>\n",
              "    </tr>\n",
              "    <tr>\n",
              "      <th>min</th>\n",
              "      <td>0.000000</td>\n",
              "      <td>0.200000</td>\n",
              "      <td>0.000000</td>\n",
              "      <td>0.000000</td>\n",
              "      <td>0.000000</td>\n",
              "      <td>52.100000</td>\n",
              "      <td>49.000000</td>\n",
              "      <td>0.000000</td>\n",
              "      <td>0.000000</td>\n",
              "      <td>0.000000</td>\n",
              "      <td>326.000000</td>\n",
              "    </tr>\n",
              "    <tr>\n",
              "      <th>25%</th>\n",
              "      <td>48393.000000</td>\n",
              "      <td>0.400000</td>\n",
              "      <td>2.000000</td>\n",
              "      <td>1.000000</td>\n",
              "      <td>2.000000</td>\n",
              "      <td>61.300000</td>\n",
              "      <td>56.000000</td>\n",
              "      <td>4.700000</td>\n",
              "      <td>4.710000</td>\n",
              "      <td>2.900000</td>\n",
              "      <td>951.000000</td>\n",
              "    </tr>\n",
              "    <tr>\n",
              "      <th>50%</th>\n",
              "      <td>96786.000000</td>\n",
              "      <td>0.700000</td>\n",
              "      <td>2.000000</td>\n",
              "      <td>3.000000</td>\n",
              "      <td>4.000000</td>\n",
              "      <td>61.900000</td>\n",
              "      <td>57.000000</td>\n",
              "      <td>5.700000</td>\n",
              "      <td>5.720000</td>\n",
              "      <td>3.530000</td>\n",
              "      <td>2401.000000</td>\n",
              "    </tr>\n",
              "    <tr>\n",
              "      <th>75%</th>\n",
              "      <td>145179.000000</td>\n",
              "      <td>1.030000</td>\n",
              "      <td>3.000000</td>\n",
              "      <td>4.000000</td>\n",
              "      <td>5.000000</td>\n",
              "      <td>62.400000</td>\n",
              "      <td>58.000000</td>\n",
              "      <td>6.510000</td>\n",
              "      <td>6.510000</td>\n",
              "      <td>4.030000</td>\n",
              "      <td>5408.000000</td>\n",
              "    </tr>\n",
              "    <tr>\n",
              "      <th>max</th>\n",
              "      <td>193572.000000</td>\n",
              "      <td>3.500000</td>\n",
              "      <td>4.000000</td>\n",
              "      <td>6.000000</td>\n",
              "      <td>7.000000</td>\n",
              "      <td>71.600000</td>\n",
              "      <td>79.000000</td>\n",
              "      <td>9.650000</td>\n",
              "      <td>10.010000</td>\n",
              "      <td>31.300000</td>\n",
              "      <td>18818.000000</td>\n",
              "    </tr>\n",
              "  </tbody>\n",
              "</table>\n",
              "</div>\n",
              "    <div class=\"colab-df-buttons\">\n",
              "\n",
              "  <div class=\"colab-df-container\">\n",
              "    <button class=\"colab-df-convert\" onclick=\"convertToInteractive('df-f5739ca6-003f-498b-8129-e26ed521cf09')\"\n",
              "            title=\"Convert this dataframe to an interactive table.\"\n",
              "            style=\"display:none;\">\n",
              "\n",
              "  <svg xmlns=\"http://www.w3.org/2000/svg\" height=\"24px\" viewBox=\"0 -960 960 960\">\n",
              "    <path d=\"M120-120v-720h720v720H120Zm60-500h600v-160H180v160Zm220 220h160v-160H400v160Zm0 220h160v-160H400v160ZM180-400h160v-160H180v160Zm440 0h160v-160H620v160ZM180-180h160v-160H180v160Zm440 0h160v-160H620v160Z\"/>\n",
              "  </svg>\n",
              "    </button>\n",
              "\n",
              "  <style>\n",
              "    .colab-df-container {\n",
              "      display:flex;\n",
              "      gap: 12px;\n",
              "    }\n",
              "\n",
              "    .colab-df-convert {\n",
              "      background-color: #E8F0FE;\n",
              "      border: none;\n",
              "      border-radius: 50%;\n",
              "      cursor: pointer;\n",
              "      display: none;\n",
              "      fill: #1967D2;\n",
              "      height: 32px;\n",
              "      padding: 0 0 0 0;\n",
              "      width: 32px;\n",
              "    }\n",
              "\n",
              "    .colab-df-convert:hover {\n",
              "      background-color: #E2EBFA;\n",
              "      box-shadow: 0px 1px 2px rgba(60, 64, 67, 0.3), 0px 1px 3px 1px rgba(60, 64, 67, 0.15);\n",
              "      fill: #174EA6;\n",
              "    }\n",
              "\n",
              "    .colab-df-buttons div {\n",
              "      margin-bottom: 4px;\n",
              "    }\n",
              "\n",
              "    [theme=dark] .colab-df-convert {\n",
              "      background-color: #3B4455;\n",
              "      fill: #D2E3FC;\n",
              "    }\n",
              "\n",
              "    [theme=dark] .colab-df-convert:hover {\n",
              "      background-color: #434B5C;\n",
              "      box-shadow: 0px 1px 3px 1px rgba(0, 0, 0, 0.15);\n",
              "      filter: drop-shadow(0px 1px 2px rgba(0, 0, 0, 0.3));\n",
              "      fill: #FFFFFF;\n",
              "    }\n",
              "  </style>\n",
              "\n",
              "    <script>\n",
              "      const buttonEl =\n",
              "        document.querySelector('#df-f5739ca6-003f-498b-8129-e26ed521cf09 button.colab-df-convert');\n",
              "      buttonEl.style.display =\n",
              "        google.colab.kernel.accessAllowed ? 'block' : 'none';\n",
              "\n",
              "      async function convertToInteractive(key) {\n",
              "        const element = document.querySelector('#df-f5739ca6-003f-498b-8129-e26ed521cf09');\n",
              "        const dataTable =\n",
              "          await google.colab.kernel.invokeFunction('convertToInteractive',\n",
              "                                                    [key], {});\n",
              "        if (!dataTable) return;\n",
              "\n",
              "        const docLinkHtml = 'Like what you see? Visit the ' +\n",
              "          '<a target=\"_blank\" href=https://colab.research.google.com/notebooks/data_table.ipynb>data table notebook</a>'\n",
              "          + ' to learn more about interactive tables.';\n",
              "        element.innerHTML = '';\n",
              "        dataTable['output_type'] = 'display_data';\n",
              "        await google.colab.output.renderOutput(dataTable, element);\n",
              "        const docLink = document.createElement('div');\n",
              "        docLink.innerHTML = docLinkHtml;\n",
              "        element.appendChild(docLink);\n",
              "      }\n",
              "    </script>\n",
              "  </div>\n",
              "\n",
              "\n",
              "<div id=\"df-2f154eae-dbf4-4834-8a05-f3b8a78d1d90\">\n",
              "  <button class=\"colab-df-quickchart\" onclick=\"quickchart('df-2f154eae-dbf4-4834-8a05-f3b8a78d1d90')\"\n",
              "            title=\"Suggest charts\"\n",
              "            style=\"display:none;\">\n",
              "\n",
              "<svg xmlns=\"http://www.w3.org/2000/svg\" height=\"24px\"viewBox=\"0 0 24 24\"\n",
              "     width=\"24px\">\n",
              "    <g>\n",
              "        <path d=\"M19 3H5c-1.1 0-2 .9-2 2v14c0 1.1.9 2 2 2h14c1.1 0 2-.9 2-2V5c0-1.1-.9-2-2-2zM9 17H7v-7h2v7zm4 0h-2V7h2v10zm4 0h-2v-4h2v4z\"/>\n",
              "    </g>\n",
              "</svg>\n",
              "  </button>\n",
              "\n",
              "<style>\n",
              "  .colab-df-quickchart {\n",
              "      --bg-color: #E8F0FE;\n",
              "      --fill-color: #1967D2;\n",
              "      --hover-bg-color: #E2EBFA;\n",
              "      --hover-fill-color: #174EA6;\n",
              "      --disabled-fill-color: #AAA;\n",
              "      --disabled-bg-color: #DDD;\n",
              "  }\n",
              "\n",
              "  [theme=dark] .colab-df-quickchart {\n",
              "      --bg-color: #3B4455;\n",
              "      --fill-color: #D2E3FC;\n",
              "      --hover-bg-color: #434B5C;\n",
              "      --hover-fill-color: #FFFFFF;\n",
              "      --disabled-bg-color: #3B4455;\n",
              "      --disabled-fill-color: #666;\n",
              "  }\n",
              "\n",
              "  .colab-df-quickchart {\n",
              "    background-color: var(--bg-color);\n",
              "    border: none;\n",
              "    border-radius: 50%;\n",
              "    cursor: pointer;\n",
              "    display: none;\n",
              "    fill: var(--fill-color);\n",
              "    height: 32px;\n",
              "    padding: 0;\n",
              "    width: 32px;\n",
              "  }\n",
              "\n",
              "  .colab-df-quickchart:hover {\n",
              "    background-color: var(--hover-bg-color);\n",
              "    box-shadow: 0 1px 2px rgba(60, 64, 67, 0.3), 0 1px 3px 1px rgba(60, 64, 67, 0.15);\n",
              "    fill: var(--button-hover-fill-color);\n",
              "  }\n",
              "\n",
              "  .colab-df-quickchart-complete:disabled,\n",
              "  .colab-df-quickchart-complete:disabled:hover {\n",
              "    background-color: var(--disabled-bg-color);\n",
              "    fill: var(--disabled-fill-color);\n",
              "    box-shadow: none;\n",
              "  }\n",
              "\n",
              "  .colab-df-spinner {\n",
              "    border: 2px solid var(--fill-color);\n",
              "    border-color: transparent;\n",
              "    border-bottom-color: var(--fill-color);\n",
              "    animation:\n",
              "      spin 1s steps(1) infinite;\n",
              "  }\n",
              "\n",
              "  @keyframes spin {\n",
              "    0% {\n",
              "      border-color: transparent;\n",
              "      border-bottom-color: var(--fill-color);\n",
              "      border-left-color: var(--fill-color);\n",
              "    }\n",
              "    20% {\n",
              "      border-color: transparent;\n",
              "      border-left-color: var(--fill-color);\n",
              "      border-top-color: var(--fill-color);\n",
              "    }\n",
              "    30% {\n",
              "      border-color: transparent;\n",
              "      border-left-color: var(--fill-color);\n",
              "      border-top-color: var(--fill-color);\n",
              "      border-right-color: var(--fill-color);\n",
              "    }\n",
              "    40% {\n",
              "      border-color: transparent;\n",
              "      border-right-color: var(--fill-color);\n",
              "      border-top-color: var(--fill-color);\n",
              "    }\n",
              "    60% {\n",
              "      border-color: transparent;\n",
              "      border-right-color: var(--fill-color);\n",
              "    }\n",
              "    80% {\n",
              "      border-color: transparent;\n",
              "      border-right-color: var(--fill-color);\n",
              "      border-bottom-color: var(--fill-color);\n",
              "    }\n",
              "    90% {\n",
              "      border-color: transparent;\n",
              "      border-bottom-color: var(--fill-color);\n",
              "    }\n",
              "  }\n",
              "</style>\n",
              "\n",
              "  <script>\n",
              "    async function quickchart(key) {\n",
              "      const quickchartButtonEl =\n",
              "        document.querySelector('#' + key + ' button');\n",
              "      quickchartButtonEl.disabled = true;  // To prevent multiple clicks.\n",
              "      quickchartButtonEl.classList.add('colab-df-spinner');\n",
              "      try {\n",
              "        const charts = await google.colab.kernel.invokeFunction(\n",
              "            'suggestCharts', [key], {});\n",
              "      } catch (error) {\n",
              "        console.error('Error during call to suggestCharts:', error);\n",
              "      }\n",
              "      quickchartButtonEl.classList.remove('colab-df-spinner');\n",
              "      quickchartButtonEl.classList.add('colab-df-quickchart-complete');\n",
              "    }\n",
              "    (() => {\n",
              "      let quickchartButtonEl =\n",
              "        document.querySelector('#df-2f154eae-dbf4-4834-8a05-f3b8a78d1d90 button');\n",
              "      quickchartButtonEl.style.display =\n",
              "        google.colab.kernel.accessAllowed ? 'block' : 'none';\n",
              "    })();\n",
              "  </script>\n",
              "</div>\n",
              "\n",
              "    </div>\n",
              "  </div>\n"
            ],
            "application/vnd.google.colaboratory.intrinsic+json": {
              "type": "dataframe",
              "summary": "{\n  \"name\": \"data\",\n  \"rows\": 8,\n  \"fields\": [\n    {\n      \"column\": \"id\",\n      \"properties\": {\n        \"dtype\": \"number\",\n        \"std\": 69764.42677387163,\n        \"min\": 0.0,\n        \"max\": 193573.0,\n        \"num_unique_values\": 7,\n        \"samples\": [\n          193573.0,\n          96786.0,\n          145179.0\n        ],\n        \"semantic_type\": \"\",\n        \"description\": \"\"\n      }\n    },\n    {\n      \"column\": \"carat\",\n      \"properties\": {\n        \"dtype\": \"number\",\n        \"std\": 68438.03272082547,\n        \"min\": 0.2,\n        \"max\": 193573.0,\n        \"num_unique_values\": 8,\n        \"samples\": [\n          0.7906878541945415,\n          0.7,\n          193573.0\n        ],\n        \"semantic_type\": \"\",\n        \"description\": \"\"\n      }\n    },\n    {\n      \"column\": \"cut\",\n      \"properties\": {\n        \"dtype\": \"number\",\n        \"std\": 68437.65970743251,\n        \"min\": 0.0,\n        \"max\": 193573.0,\n        \"num_unique_values\": 7,\n        \"samples\": [\n          193573.0,\n          2.5650478114199813,\n          3.0\n        ],\n        \"semantic_type\": \"\",\n        \"description\": \"\"\n      }\n    },\n    {\n      \"column\": \"color\",\n      \"properties\": {\n        \"dtype\": \"number\",\n        \"std\": 68437.47433196541,\n        \"min\": 0.0,\n        \"max\": 193573.0,\n        \"num_unique_values\": 8,\n        \"samples\": [\n          2.5161566954069006,\n          3.0,\n          193573.0\n        ],\n        \"semantic_type\": \"\",\n        \"description\": \"\"\n      }\n    },\n    {\n      \"column\": \"clarity\",\n      \"properties\": {\n        \"dtype\": \"number\",\n        \"std\": 68437.2060758901,\n        \"min\": 0.0,\n        \"max\": 193573.0,\n        \"num_unique_values\": 8,\n        \"samples\": [\n          3.818342434120461,\n          4.0,\n          193573.0\n        ],\n        \"semantic_type\": \"\",\n        \"description\": \"\"\n      }\n    },\n    {\n      \"column\": \"depth\",\n      \"properties\": {\n        \"dtype\": \"number\",\n        \"std\": 68419.59492731707,\n        \"min\": 1.0817043574329797,\n        \"max\": 193573.0,\n        \"num_unique_values\": 8,\n        \"samples\": [\n          61.82057415032056,\n          61.9,\n          193573.0\n        ],\n        \"semantic_type\": \"\",\n        \"description\": \"\"\n      }\n    },\n    {\n      \"column\": \"table\",\n      \"properties\": {\n        \"dtype\": \"number\",\n        \"std\": 68420.30483908336,\n        \"min\": 1.9188442793738754,\n        \"max\": 193573.0,\n        \"num_unique_values\": 8,\n        \"samples\": [\n          57.22767483068404,\n          57.0,\n          193573.0\n        ],\n        \"semantic_type\": \"\",\n        \"description\": \"\"\n      }\n    },\n    {\n      \"column\": \"x\",\n      \"properties\": {\n        \"dtype\": \"number\",\n        \"std\": 68436.70436118779,\n        \"min\": 0.0,\n        \"max\": 193573.0,\n        \"num_unique_values\": 8,\n        \"samples\": [\n          5.715312104477381,\n          5.7,\n          193573.0\n        ],\n        \"semantic_type\": \"\",\n        \"description\": \"\"\n      }\n    },\n    {\n      \"column\": \"y\",\n      \"properties\": {\n        \"dtype\": \"number\",\n        \"std\": 68436.68478358598,\n        \"min\": 0.0,\n        \"max\": 193573.0,\n        \"num_unique_values\": 8,\n        \"samples\": [\n          5.720094382997628,\n          5.72,\n          193573.0\n        ],\n        \"semantic_type\": \"\",\n        \"description\": \"\"\n      }\n    },\n    {\n      \"column\": \"z\",\n      \"properties\": {\n        \"dtype\": \"number\",\n        \"std\": 68436.06873610438,\n        \"min\": 0.0,\n        \"max\": 193573.0,\n        \"num_unique_values\": 8,\n        \"samples\": [\n          3.5342463360076035,\n          3.53,\n          193573.0\n        ],\n        \"semantic_type\": \"\",\n        \"description\": \"\"\n      }\n    },\n    {\n      \"column\": \"price\",\n      \"properties\": {\n        \"dtype\": \"number\",\n        \"std\": 66879.43478908898,\n        \"min\": 326.0,\n        \"max\": 193573.0,\n        \"num_unique_values\": 8,\n        \"samples\": [\n          3969.1554142364894,\n          2401.0,\n          193573.0\n        ],\n        \"semantic_type\": \"\",\n        \"description\": \"\"\n      }\n    }\n  ]\n}"
            }
          },
          "metadata": {},
          "execution_count": 22
        }
      ]
    },
    {
      "cell_type": "markdown",
      "source": [
        "To start, we should check for null values and outliers."
      ],
      "metadata": {
        "id": "-zZvP5Ooac8m"
      }
    },
    {
      "cell_type": "code",
      "source": [
        "data.isna().sum()"
      ],
      "metadata": {
        "colab": {
          "base_uri": "https://localhost:8080/"
        },
        "id": "XVlFfDR8aVql",
        "outputId": "e1b01bcb-d6e3-4a56-b229-b9cd107faa93"
      },
      "execution_count": 6,
      "outputs": [
        {
          "output_type": "execute_result",
          "data": {
            "text/plain": [
              "id         0\n",
              "carat      0\n",
              "cut        0\n",
              "color      0\n",
              "clarity    0\n",
              "depth      0\n",
              "table      0\n",
              "x          0\n",
              "y          0\n",
              "z          0\n",
              "price      0\n",
              "dtype: int64"
            ]
          },
          "metadata": {},
          "execution_count": 6
        }
      ]
    },
    {
      "cell_type": "markdown",
      "source": [
        "There are no null values so we do not have to worry about dropping them or performing imputations."
      ],
      "metadata": {
        "id": "gV1-A1EuawDX"
      }
    },
    {
      "cell_type": "markdown",
      "metadata": {
        "id": "3H0fBxGNcTeP"
      },
      "source": [
        "Now, lets make some boxplots for every numeric column in the dataset and check the outliers."
      ]
    },
    {
      "cell_type": "code",
      "execution_count": 7,
      "metadata": {
        "colab": {
          "base_uri": "https://localhost:8080/",
          "height": 272
        },
        "id": "CCvJ6c8YRLdG",
        "outputId": "a1bf7fba-7ce6-4668-fa6f-0ad5d5d7c15c"
      },
      "outputs": [
        {
          "output_type": "display_data",
          "data": {
            "text/plain": [
              "<Figure size 1500x500 with 8 Axes>"
            ],
            "image/png": "[encoded data removed]"
          },
          "metadata": {}
        }
      ],
      "source": [
        "# Filter numeric columns\n",
        "numeric_columns = data.select_dtypes(include=[np.number]).columns\n",
        "\n",
        "# Create subplots for each numeric column\n",
        "fig, axs = plt.subplots(1, len(numeric_columns), figsize=(15, 5))\n",
        "\n",
        "# Iterate over each numeric column and generate the boxplot\n",
        "for i, column in enumerate(numeric_columns):\n",
        "    sns.boxplot(data[column], ax=axs[i])\n",
        "    axs[i].set_title(column)\n",
        "\n",
        "    # Determine the y-axis limits for scaling\n",
        "    min_val = data[column].min()\n",
        "    max_val = data[column].max()\n",
        "    ylim = (min_val - 0.1 * abs(min_val), max_val + 0.1 * abs(max_val))\n",
        "    axs[i].set_ylim(ylim)\n",
        "\n",
        "# Adjust the layout\n",
        "plt.tight_layout()\n",
        "\n",
        "# Display the plots\n",
        "plt.show()\n"
      ]
    },
    {
      "cell_type": "markdown",
      "metadata": {
        "id": "31J5j_enz3ly"
      },
      "source": [
        "Based on the boxplots above, we can see that there are decent number of outliers. For now, we will leave the outliers alone, but we could handle them in some if we choose."
      ]
    },
    {
      "cell_type": "code",
      "execution_count": null,
      "metadata": {
        "id": "35NTa-j6MnGQ"
      },
      "outputs": [],
      "source": [
        "def remove_outliers(data):\n",
        "  # Display shape before removing outliers\n",
        "  print(\"Shape before removing outliers:\", data.shape)\n",
        "\n",
        "  original_num_samples = data.shape[0]\n",
        "\n",
        "  # Select numeric columns\n",
        "  numeric_columns = data.select_dtypes(include='number').columns.drop('price')\n",
        "\n",
        "  # Calculate the IQR for each numeric column\n",
        "  Q1 = data[numeric_columns].quantile(0.25)\n",
        "  Q3 = data[numeric_columns].quantile(0.75)\n",
        "  IQR = Q3 - Q1\n",
        "\n",
        "  # Define the threshold to identify outliers (e.g., 1.5 times the IQR)\n",
        "  outlier_threshold = 1.5\n",
        "\n",
        "  # Remove outliers from each numeric column\n",
        "  data = data[~((data[numeric_columns] < (Q1 - outlier_threshold * IQR)) | (data[numeric_columns] > (Q3 + outlier_threshold * IQR))).any(axis=1)]\n",
        "\n",
        "  # Display shape after removing outliers, so we can see how many samples remain\n",
        "  print(\"Shape after removing outliers:\", data.shape)\n",
        "\n",
        "  print(\"Number of samples removed:\", original_num_samples - data.shape[0])\n",
        "\n",
        "  return data"
      ]
    },
    {
      "cell_type": "code",
      "source": [
        "import seaborn as sns\n",
        "\n",
        "sns.heatmap(data.corr(), annot=True)"
      ],
      "metadata": {
        "colab": {
          "base_uri": "https://localhost:8080/",
          "height": 482
        },
        "id": "xBZUSkQJunEK",
        "outputId": "b6163d5d-92e5-433b-e539-4f4af65db66e"
      },
      "execution_count": 106,
      "outputs": [
        {
          "output_type": "execute_result",
          "data": {
            "text/plain": [
              "<Axes: >"
            ]
          },
          "metadata": {},
          "execution_count": 106
        },
        {
          "output_type": "display_data",
          "data": {
            "text/plain": [
              "<Figure size 640x480 with 2 Axes>"
            ],
            "image/png": "[encoded data removed]"
          },
          "metadata": {}
        }
      ]
    },
    {
      "cell_type": "markdown",
      "metadata": {
        "id": "xA9xndu0eUK6"
      },
      "source": [
        "Although scaling our numeric columns will not necessarily improve the accuracy for certain models, it will speed up their training. We will worry about speed later as our primary concern right now to set the ground for all the stuff to come and get a baseline accuracy and error. (Also, scaling values will mess up our relative scaling of the error calculation.)"
      ]
    },
    {
      "cell_type": "code",
      "execution_count": 8,
      "metadata": {
        "id": "1ju5ZcQ5Q4JB"
      },
      "outputs": [],
      "source": [
        "from sklearn.preprocessing import StandardScaler\n",
        "from sklearn.preprocessing import MinMaxScaler\n",
        "\n",
        "def scaler(data, type):\n",
        "  numeric_data = data.select_dtypes(include=np.number)\n",
        "  if type == \"StandardScaler\":\n",
        "    scaler = StandardScaler()\n",
        "  else:\n",
        "    scaler = MinMaxScaler()\n",
        "  x_rescaled = scaler.fit_transform(numeric_data)\n",
        "  return x_rescaled\n",
        "\n",
        "def replace(data, new_x):\n",
        "  for index, column in enumerate(data.select_dtypes(include=np.number)):\n",
        "    data.loc[:, column] = new_x[:, index]"
      ]
    },
    {
      "cell_type": "markdown",
      "metadata": {
        "id": "KXgmOc4d2VKd"
      },
      "source": [
        "We will need to encode our categorical features if we want to use them to train our models\n",
        "The one exception to this is we use catboost or lightbgm, which have their own categorical data processing.\n",
        "(This is one preprocessing step we cannot skip)"
      ]
    },
    {
      "cell_type": "code",
      "execution_count": 48,
      "metadata": {
        "id": "tDYabX-aTjNJ"
      },
      "outputs": [],
      "source": [
        "from sklearn.preprocessing import LabelEncoder\n",
        "\n",
        "encode = LabelEncoder()\n",
        "\n",
        "categorical_columns = data.select_dtypes(include=[object])\n",
        "\n",
        "for c in categorical_columns:\n",
        "  data[c] = encode.fit_transform(data[c])"
      ]
    },
    {
      "cell_type": "markdown",
      "metadata": {
        "id": "02xp7SiK10Hl"
      },
      "source": [
        "## **Model Training and Evaluation**\n"
      ]
    },
    {
      "cell_type": "markdown",
      "metadata": {
        "id": "qxxCl3212hVL"
      },
      "source": [
        "To start off, we will just use a Randomforest and Xgboost model and check their accuracies using a normal train-test-split. We will also stick to the default parameters for both the models.\n"
      ]
    },
    {
      "cell_type": "code",
      "execution_count": null,
      "metadata": {
        "id": "iFXw0MZR3UNr"
      },
      "outputs": [],
      "source": [
        "# We will import the necessary libraries for this task\n",
        "from sklearn.model_selection import train_test_split\n",
        "from sklearn.ensemble import RandomForestRegressor\n",
        "from xgboost import XGBRegressor\n",
        "from sklearn.metrics import r2_score, mean_squared_error\n",
        "\n",
        "x = data.drop(columns=['price'])\n",
        "y = data.price\n",
        "\n",
        "x_train, x_test, y_train, y_test = train_test_split(x, y, test_size=0.3, random_state=1)\n",
        "\n",
        "# It may seem unecessary to write functions just to create and train the models but it will be helpful later on\n",
        "def create_train(model, x=None, y=None, params=None, training=True):\n",
        "  if model == \"rf\":\n",
        "    model = RandomForestRegressor(**params) if params is not None else RandomForestRegressor()\n",
        "  elif model == \"xgb\":\n",
        "    model = XGBRegressor(**params) if params is not None else XGBRegressor()\n",
        "\n",
        "  if training:\n",
        "    # assert x is None or y is None, \"data for x and y should be provided\"\n",
        "    train(model, x, y)\n",
        "\n",
        "  print(f'Memory Usage: {memory_usage} MB')\n",
        "  return model\n",
        "\n",
        "def train(model, x, y):\n",
        "  model.fit(x, y)\n",
        "\n",
        "def evaluation(model, x, y, prin=True, ret=True):\n",
        "  y_pred = model.predict(x)\n",
        "  r2 = r2_score(y, y_pred)\n",
        "  rmse = np.sqrt(mean_squared_error(y, y_pred))\n",
        "\n",
        "  if prin:\n",
        "    print(f'R2 Score of {model.__class__.__name__}: {r2}')\n",
        "    print(f'Root Mean Squared Error of {model.__class__.__name__}: {rmse}')\n",
        "\n",
        "  if ret:\n",
        "    return r2, rmse\n"
      ]
    },
    {
      "cell_type": "code",
      "source": [
        "start = time.time()\n",
        "rf = create_train('rf', x_train, y_train)\n",
        "xgb = create_train('xgb', x_train, y_train)\n",
        "\n",
        "evaluation(rf, x_test, y_test, ret=False)\n",
        "print()\n",
        "evaluation(xgb, x_test, y_test, ret=False)\n",
        "print(time.time() - start, 's')"
      ],
      "metadata": {
        "colab": {
          "base_uri": "https://localhost:8080/"
        },
        "id": "FGwjQspIlkb_",
        "outputId": "3b1df7c2-77f8-457e-c0fa-1820622216b7"
      },
      "execution_count": 52,
      "outputs": [
        {
          "output_type": "stream",
          "name": "stdout",
          "text": [
            "R2 Score of RandomForestRegressor: 0.9778491800813095\n",
            "Root Mean Squared Error of RandomForestRegressor: 598.358679935452\n",
            "\n",
            "R2 Score of XGBRegressor: 0.979173718298298\n",
            "Root Mean Squared Error of XGBRegressor: 580.1931024393826\n",
            "98.65504240989685 s\n"
          ]
        }
      ]
    },
    {
      "cell_type": "markdown",
      "metadata": {
        "id": "63POiYH7EvSr"
      },
      "source": [
        "Our r2 scores are very high considering we did not do any feature engineering. However, the root mean squared error could use some work. We also did not implement cross-validation to get a better idea of our model's accuracy, so lets do that see if its consistent. For now, we will still stick to the default parameters."
      ]
    },
    {
      "cell_type": "code",
      "execution_count": null,
      "metadata": {
        "colab": {
          "base_uri": "https://localhost:8080/"
        },
        "id": "Ewv4q19ILOEX",
        "outputId": "d92072b1-43bc-4ddd-b09d-44ed822444d4"
      },
      "outputs": [
        {
          "name": "stdout",
          "output_type": "stream",
          "text": [
            "\n",
            "R2 Score of RandomForestRegressor: 0.9779015070769028\n",
            "Root Mean Squared Error of RandomForestRegressor: 599.6699515717288\n",
            "\n",
            "R2 Score of RandomForestRegressor: 0.9764901854016661\n",
            "Root Mean Squared Error of RandomForestRegressor: 617.6400715376996\n",
            "\n",
            "R2 Score of RandomForestRegressor: 0.9776537078896106\n",
            "Root Mean Squared Error of RandomForestRegressor: 605.5543657697806\n",
            "\n",
            "R2 Score of RandomForestRegressor: 0.9779117706034768\n",
            "Root Mean Squared Error of RandomForestRegressor: 602.3715273053976\n",
            "\n",
            "R2 Score of RandomForestRegressor: 0.9774559003326899\n",
            "Root Mean Squared Error of RandomForestRegressor: 601.4078992717915\n",
            "RandomForestRegressor:\n",
            "Average R2 Score: 0.9774826142608692\n",
            "Average Root Mean Squared Error: 605.3287630912796\n",
            "\n",
            "\n",
            "R2 Score of XGBRegressor: 0.9789965037945424\n",
            "Root Mean Squared Error of XGBRegressor: 584.6241556208035\n",
            "\n",
            "R2 Score of XGBRegressor: 0.9778113948794213\n",
            "Root Mean Squared Error of XGBRegressor: 600.0340047408173\n",
            "\n",
            "R2 Score of XGBRegressor: 0.9785434991352\n",
            "Root Mean Squared Error of XGBRegressor: 593.3758310844989\n",
            "\n",
            "R2 Score of XGBRegressor: 0.9790259800166299\n",
            "Root Mean Squared Error of XGBRegressor: 586.982052237703\n",
            "\n",
            "R2 Score of XGBRegressor: 0.9786398188542581\n",
            "Root Mean Squared Error of XGBRegressor: 585.4032725513501\n",
            "XGBRegressor:\n",
            "Average R2 Score: 0.9786034393360105\n",
            "Average Root Mean Squared Error: 590.0838632470346\n",
            "\n"
          ]
        }
      ],
      "source": [
        "from sklearn.model_selection import cross_val_score, KFold\n",
        "\n",
        "kf = KFold(n_splits=5, shuffle=True, random_state=2)\n",
        "\n",
        "models = [\n",
        "    create_train('rf', training=False),\n",
        "    create_train('xgb', training=False)\n",
        "]\n",
        "\n",
        "for model in models:\n",
        "  fold_score1 = []\n",
        "  fold_score2 = []\n",
        "  for train_index, test_index in kf.split(x):\n",
        "    x_train, x_test = x.iloc[train_index], x.iloc[test_index]\n",
        "    y_train, y_test = y.iloc[train_index], y.iloc[test_index]\n",
        "\n",
        "    train(model, x_train, y_train)\n",
        "\n",
        "    print()\n",
        "\n",
        "    r2, rmse = evaluation(model, x_test, y_test)\n",
        "\n",
        "    fold_score1.append(r2)\n",
        "\n",
        "    fold_score2.append(rmse)\n",
        "\n",
        "  print(f'{model.__class__.__name__}:')\n",
        "  print(f'Average R2 Score: {np.mean(fold_score1)}')\n",
        "  print(f'Average Root Mean Squared Error: {np.mean(fold_score2)}')\n",
        "  print()"
      ]
    },
    {
      "cell_type": "markdown",
      "metadata": {
        "id": "yQv4vbrBR4dE"
      },
      "source": [
        "Now, lets start hyperparameter tuning and see if we can find the best possible parameters for our models. One thing to note is that this process alone is time-consuming, especially with a dataset of over 100k samples, it will take an extremely long time, especially if we include cross-validation. Doing this method might not be practical in every situation, but for the sake of hands on implementation, I will show how this would be done, especially when we do want the best accuracy. The time it takes for these models after each prediction as well as the final prediction will be logged so we can later compare and see if the potential accuracy gain was worth spending the time achieving it."
      ]
    },
    {
      "cell_type": "code",
      "execution_count": null,
      "metadata": {
        "id": "5EgrRtm-Tfme"
      },
      "outputs": [],
      "source": [
        "import optuna\n",
        "import time\n",
        "\n",
        "def sampler(x, y, n):\n",
        "  return x.sample(n), y.sample(n)\n",
        "\n",
        "optuna.logging.set_verbosity(optuna.logging.WARNING)\n",
        "\n",
        "time_logging = []\n",
        "error_logging = []\n",
        "\n",
        "def optimiz(model_name, x_train, y_train, x_test, y_test):\n",
        "  prev_time = time.time()\n",
        "  kf = KFold(n_splits=5, shuffle=True, random_state=2)\n",
        "  def objective(trial):\n",
        "      params = {\n",
        "        'n_estimators': trial.suggest_int('n_estimators', 10, 200),\n",
        "        'max_depth': trial.suggest_int('max_depth', 2, 20)\n",
        "      }\n",
        "\n",
        "      model = create_train(model_name, training=False)\n",
        "\n",
        "      fold_score1 = []\n",
        "      fold_score2 = []\n",
        "      for train_index, test_index in kf.split(x):\n",
        "        x_train, x_test = x.iloc[train_index], x.iloc[test_index]\n",
        "        y_train, y_test = y.iloc[train_index], y.iloc[test_index]\n",
        "\n",
        "        train(model, x_train, y_train)\n",
        "\n",
        "        r2, rmse = evaluation(model, x_test, y_test, prin=False)\n",
        "\n",
        "        fold_score1.append(r2)\n",
        "\n",
        "        fold_score2.append(rmse)\n",
        "\n",
        "      error_logging.append(np.mean(fold_score2))\n",
        "      current_time = time.time() - prev_time\n",
        "      time_logging.append(current_time)\n",
        "      print(f'Average Root Mean Squraed Error: {np.mean(fold_score2)}')\n",
        "      print(f'Current Time: {current_time}')\n",
        "      return rmse\n",
        "\n",
        "  n_trials = 10\n",
        "\n",
        "  study = optuna.create_study(direction='minimize')\n",
        "  study.optimize(objective, n_trials=n_trials)\n",
        "\n",
        "  print(f'{model_name}:')\n",
        "  print(f'Best parameters: {study.best_params}')\n",
        "  print(f'Best root mean squared error; {study.best_value}')\n",
        "  print(time.time() - start, 's')"
      ]
    },
    {
      "cell_type": "code",
      "execution_count": null,
      "metadata": {
        "colab": {
          "background_save": true,
          "base_uri": "https://localhost:8080/",
          "height": 993
        },
        "id": "I7cAvJuf1fhk",
        "outputId": "c718ae09-eba0-4ac0-cd7c-4c18930f7c7b"
      },
      "outputs": [
        {
          "name": "stdout",
          "output_type": "stream",
          "text": [
            "Average Root Mean Squraed Error: 590.0838632470346\n",
            "Current Time: 88.45039463043213\n",
            "Average Root Mean Squraed Error: 590.0838632470346\n",
            "Current Time: 174.6568489074707\n",
            "Average Root Mean Squraed Error: 590.0838632470346\n",
            "Current Time: 261.90784645080566\n",
            "Average Root Mean Squraed Error: 590.0838632470346\n",
            "Current Time: 349.1123125553131\n",
            "Average Root Mean Squraed Error: 590.0838632470346\n",
            "Current Time: 433.9794542789459\n",
            "Average Root Mean Squraed Error: 590.0838632470346\n",
            "Current Time: 521.331778049469\n",
            "Average Root Mean Squraed Error: 590.0838632470346\n",
            "Current Time: 606.3426713943481\n",
            "Average Root Mean Squraed Error: 590.0838632470346\n",
            "Current Time: 693.6946270465851\n",
            "Average Root Mean Squraed Error: 590.0838632470346\n",
            "Current Time: 778.7673299312592\n",
            "Average Root Mean Squraed Error: 590.0838632470346\n",
            "Current Time: 866.2458071708679\n",
            "xgb:\n",
            "Best parameters: {'n_estimators': 191, 'max_depth': 17}\n",
            "Best root mean squared error; 585.4032725513501\n",
            "866.2492196559906 s\n"
          ]
        },
        {
          "data": {
            "image/png": "[encoded data removed]",
            "text/plain": [
              "<Figure size 640x480 with 1 Axes>"
            ]
          },
          "metadata": {},
          "output_type": "display_data"
        },
        {
          "name": "stdout",
          "output_type": "stream",
          "text": [
            "Average Root Mean Squraed Error: 605.4541735455424\n",
            "Current Time: 548.7602071762085\n",
            "Average Root Mean Squraed Error: 605.0173265765683\n",
            "Current Time: 1096.8060801029205\n",
            "Average Root Mean Squraed Error: 605.7038247624989\n",
            "Current Time: 1641.5564496517181\n",
            "Average Root Mean Squraed Error: 605.3430374891711\n",
            "Current Time: 2188.368401527405\n",
            "Average Root Mean Squraed Error: 605.0390652534901\n",
            "Current Time: 2726.26065158844\n",
            "Average Root Mean Squraed Error: 605.4225005692309\n",
            "Current Time: 3265.2527055740356\n",
            "Average Root Mean Squraed Error: 605.2805564216244\n",
            "Current Time: 3802.683500766754\n",
            "Average Root Mean Squraed Error: 605.4977076399019\n",
            "Current Time: 4340.587879419327\n",
            "Average Root Mean Squraed Error: 605.4946307251903\n",
            "Current Time: 4878.294660568237\n",
            "Average Root Mean Squraed Error: 605.5179565938458\n",
            "Current Time: 5416.232330560684\n",
            "rf:\n",
            "Best parameters: {'n_estimators': 20, 'max_depth': 17}\n",
            "Best root mean squared error; 602.0789634990429\n",
            "5416.297575473785 s\n"
          ]
        },
        {
          "data": {
            "image/png": "[encoded data removed]",
            "text/plain": [
              "<Figure size 640x480 with 1 Axes>"
            ]
          },
          "metadata": {},
          "output_type": "display_data"
        }
      ],
      "source": [
        "start = time.time()\n",
        "optimiz('xgb', x_train, y_train, x_test, y_test)\n",
        "plt.plot(time_logging, error_logging)\n",
        "plt.xlabel(\"Time\")\n",
        "plt.ylabel(\"RMSE\")\n",
        "plt.title(\"RMSE vs Time\")\n",
        "plt.show()\n",
        "start = time.time()\n",
        "optimiz('rf', x_train, y_train, x_test, y_test)\n",
        "plt.plot(time_logging, error_logging)\n",
        "plt.xlabel(\"Time\")\n",
        "plt.ylabel(\"RMSE\")\n",
        "plt.title(\"RMSE vs Time\")\n",
        "plt.show()"
      ]
    },
    {
      "cell_type": "markdown",
      "metadata": {
        "id": "LRgAwUsGyYO8"
      },
      "source": [
        "Given the time spent finding the right hyperparameters, there was no error drop. This is something to keep in mind when hyperparameter tuning for medium-to-large datasets."
      ]
    }
  ],
  "metadata": {
    "colab": {
      "provenance": []
    },
    "kernelspec": {
      "display_name": "Python 3",
      "name": "python3"
    },
    "language_info": {
      "name": "python"
    }
  },
  "nbformat": 4,
  "nbformat_minor": 0
}